{
 "cells": [
  {
   "cell_type": "markdown",
   "id": "4877ffcb-7899-4de0-889f-1b79fd853a84",
   "metadata": {
    "execution": {
     "iopub.execute_input": "2024-08-22T15:19:09.121937Z",
     "iopub.status.busy": "2024-08-22T15:19:09.121698Z",
     "iopub.status.idle": "2024-08-22T15:19:10.813730Z",
     "shell.execute_reply": "2024-08-22T15:19:10.812363Z",
     "shell.execute_reply.started": "2024-08-22T15:19:09.121921Z"
    }
   },
   "source": [
    "# Предсказание клиентской активности в следующие 90 дней"
   ]
  },
  {
   "cell_type": "markdown",
   "id": "f1f03331-f28d-4d95-b83b-566ce99c67fb",
   "metadata": {},
   "source": [
    "В рамках данного проекта нам предстоит построить модель, предсказываюзщую, совершит ли клиент покупку в ближайшие 90 дней или нет. \n",
    "Для построения модели мы будем использовать широкий набор данных, включающий историю покупок а также историю маркетинговых коммуникаций с клиентами.\n",
    "\n",
    "В рамках проекта нам предстоит проанализировать и обработать исходные данные, подготовить набор признаков на уровне клиента для обучения модели.\n",
    "В результате обучения модели, нам нужно будет оценить качество предсказаний на тестовой выборке, а также подготовить рекомендации для заказчика."
   ]
  },
  {
   "cell_type": "markdown",
   "id": "e9fd5830-9d0d-4921-9bf7-ee5c1b3f409b",
   "metadata": {},
   "source": [
    "## Загрузка данных"
   ]
  },
  {
   "cell_type": "code",
   "execution_count": 1,
   "id": "7d206d41-5f7b-4995-80d9-595bd36388a8",
   "metadata": {
    "execution": {
     "iopub.execute_input": "2024-09-01T17:18:31.882553Z",
     "iopub.status.busy": "2024-09-01T17:18:31.882448Z",
     "iopub.status.idle": "2024-09-01T17:18:36.240891Z",
     "shell.execute_reply": "2024-09-01T17:18:36.240349Z",
     "shell.execute_reply.started": "2024-09-01T17:18:31.882541Z"
    }
   },
   "outputs": [],
   "source": [
    "# Устанавливаем сторонние библиотеки\n",
    "!pip install phik -q\n",
    "!pip install catboost -q\n",
    "!pip install shap -q"
   ]
  },
  {
   "cell_type": "code",
   "execution_count": 2,
   "id": "3fe53fa2-72a1-42ab-a310-4e1c7bc42e3c",
   "metadata": {
    "execution": {
     "iopub.execute_input": "2024-09-01T17:18:36.242344Z",
     "iopub.status.busy": "2024-09-01T17:18:36.242063Z",
     "iopub.status.idle": "2024-09-01T17:18:38.202062Z",
     "shell.execute_reply": "2024-09-01T17:18:38.201524Z",
     "shell.execute_reply.started": "2024-09-01T17:18:36.242329Z"
    }
   },
   "outputs": [],
   "source": [
    "# Импортируем необходимые библиотеки\n",
    "import pandas as pd\n",
    "import numpy as np\n",
    "\n",
    "from sklearn.model_selection import train_test_split, GridSearchCV,StratifiedKFold,RandomizedSearchCV\n",
    "from sklearn.metrics import f1_score, roc_auc_score\n",
    "from sklearn.pipeline import Pipeline\n",
    "from sklearn.compose import ColumnTransformer\n",
    "from sklearn.impute import SimpleImputer\n",
    "from sklearn.preprocessing import StandardScaler, MinMaxScaler, OneHotEncoder, OrdinalEncoder, LabelEncoder\n",
    "\n",
    "# Импортируем небходимые модели\n",
    "from sklearn.linear_model import LogisticRegression\n",
    "from sklearn.svm import SVC\n",
    "from sklearn.neighbors import KNeighborsClassifier\n",
    "from sklearn.tree import DecisionTreeClassifier\n",
    "\n",
    "import matplotlib.pyplot as plt\n",
    "import seaborn as sns\n",
    "\n",
    "# Импортируем сторонние библиотеки\n",
    "import phik\n",
    "from catboost import CatBoostClassifier\n",
    "import shap"
   ]
  },
  {
   "cell_type": "code",
   "execution_count": 3,
   "id": "aab22cc3-0f0d-41c2-828b-d0793ccac48d",
   "metadata": {
    "execution": {
     "iopub.execute_input": "2024-09-01T17:18:38.203049Z",
     "iopub.status.busy": "2024-09-01T17:18:38.202741Z",
     "iopub.status.idle": "2024-09-01T17:18:48.702721Z",
     "shell.execute_reply": "2024-09-01T17:18:48.702020Z",
     "shell.execute_reply.started": "2024-09-01T17:18:38.203036Z"
    }
   },
   "outputs": [],
   "source": [
    "# Загружаем данные\n",
    "messages = pd.read_csv('messages.csv')\n",
    "messages[['date','created_at']] = messages[['date','created_at']].astype('datetime64')\n",
    "\n",
    "target = pd.read_csv('apparel-target_binary.csv')\n",
    "purchase = pd.read_csv('apparel-purchases.csv',parse_dates = ['date'])"
   ]
  },
  {
   "cell_type": "code",
   "execution_count": 4,
   "id": "a77a94b1-a874-4e8b-8f5f-3677afbc008c",
   "metadata": {
    "execution": {
     "iopub.execute_input": "2024-09-01T17:18:48.703721Z",
     "iopub.status.busy": "2024-09-01T17:18:48.703581Z",
     "iopub.status.idle": "2024-09-01T17:18:48.714937Z",
     "shell.execute_reply": "2024-09-01T17:18:48.714494Z",
     "shell.execute_reply.started": "2024-09-01T17:18:48.703709Z"
    }
   },
   "outputs": [
    {
     "data": {
      "text/html": [
       "<div>\n",
       "<style scoped>\n",
       "    .dataframe tbody tr th:only-of-type {\n",
       "        vertical-align: middle;\n",
       "    }\n",
       "\n",
       "    .dataframe tbody tr th {\n",
       "        vertical-align: top;\n",
       "    }\n",
       "\n",
       "    .dataframe thead th {\n",
       "        text-align: right;\n",
       "    }\n",
       "</style>\n",
       "<table border=\"1\" class=\"dataframe\">\n",
       "  <thead>\n",
       "    <tr style=\"text-align: right;\">\n",
       "      <th></th>\n",
       "      <th>bulk_campaign_id</th>\n",
       "      <th>client_id</th>\n",
       "      <th>message_id</th>\n",
       "      <th>event</th>\n",
       "      <th>channel</th>\n",
       "      <th>date</th>\n",
       "      <th>created_at</th>\n",
       "    </tr>\n",
       "  </thead>\n",
       "  <tbody>\n",
       "    <tr>\n",
       "      <th>0</th>\n",
       "      <td>4439</td>\n",
       "      <td>1515915625626736623</td>\n",
       "      <td>1515915625626736623-4439-6283415ac07ea</td>\n",
       "      <td>open</td>\n",
       "      <td>email</td>\n",
       "      <td>2022-05-19</td>\n",
       "      <td>2022-05-19 00:14:20</td>\n",
       "    </tr>\n",
       "    <tr>\n",
       "      <th>1</th>\n",
       "      <td>4439</td>\n",
       "      <td>1515915625490086521</td>\n",
       "      <td>1515915625490086521-4439-62834150016dd</td>\n",
       "      <td>open</td>\n",
       "      <td>email</td>\n",
       "      <td>2022-05-19</td>\n",
       "      <td>2022-05-19 00:39:34</td>\n",
       "    </tr>\n",
       "    <tr>\n",
       "      <th>2</th>\n",
       "      <td>4439</td>\n",
       "      <td>1515915625553578558</td>\n",
       "      <td>1515915625553578558-4439-6283415b36b4f</td>\n",
       "      <td>open</td>\n",
       "      <td>email</td>\n",
       "      <td>2022-05-19</td>\n",
       "      <td>2022-05-19 00:51:49</td>\n",
       "    </tr>\n",
       "    <tr>\n",
       "      <th>3</th>\n",
       "      <td>4439</td>\n",
       "      <td>1515915625553578558</td>\n",
       "      <td>1515915625553578558-4439-6283415b36b4f</td>\n",
       "      <td>click</td>\n",
       "      <td>email</td>\n",
       "      <td>2022-05-19</td>\n",
       "      <td>2022-05-19 00:52:20</td>\n",
       "    </tr>\n",
       "    <tr>\n",
       "      <th>4</th>\n",
       "      <td>4439</td>\n",
       "      <td>1515915625471518311</td>\n",
       "      <td>1515915625471518311-4439-628341570c133</td>\n",
       "      <td>open</td>\n",
       "      <td>email</td>\n",
       "      <td>2022-05-19</td>\n",
       "      <td>2022-05-19 00:56:52</td>\n",
       "    </tr>\n",
       "  </tbody>\n",
       "</table>\n",
       "</div>"
      ],
      "text/plain": [
       "   bulk_campaign_id            client_id  \\\n",
       "0              4439  1515915625626736623   \n",
       "1              4439  1515915625490086521   \n",
       "2              4439  1515915625553578558   \n",
       "3              4439  1515915625553578558   \n",
       "4              4439  1515915625471518311   \n",
       "\n",
       "                               message_id  event channel       date  \\\n",
       "0  1515915625626736623-4439-6283415ac07ea   open   email 2022-05-19   \n",
       "1  1515915625490086521-4439-62834150016dd   open   email 2022-05-19   \n",
       "2  1515915625553578558-4439-6283415b36b4f   open   email 2022-05-19   \n",
       "3  1515915625553578558-4439-6283415b36b4f  click   email 2022-05-19   \n",
       "4  1515915625471518311-4439-628341570c133   open   email 2022-05-19   \n",
       "\n",
       "           created_at  \n",
       "0 2022-05-19 00:14:20  \n",
       "1 2022-05-19 00:39:34  \n",
       "2 2022-05-19 00:51:49  \n",
       "3 2022-05-19 00:52:20  \n",
       "4 2022-05-19 00:56:52  "
      ]
     },
     "metadata": {},
     "output_type": "display_data"
    },
    {
     "name": "stdout",
     "output_type": "stream",
     "text": [
      "<class 'pandas.core.frame.DataFrame'>\n",
      "RangeIndex: 12739798 entries, 0 to 12739797\n",
      "Data columns (total 7 columns):\n",
      " #   Column            Dtype         \n",
      "---  ------            -----         \n",
      " 0   bulk_campaign_id  int64         \n",
      " 1   client_id         int64         \n",
      " 2   message_id        object        \n",
      " 3   event             object        \n",
      " 4   channel           object        \n",
      " 5   date              datetime64[ns]\n",
      " 6   created_at        datetime64[ns]\n",
      "dtypes: datetime64[ns](2), int64(2), object(3)\n",
      "memory usage: 680.4+ MB\n"
     ]
    }
   ],
   "source": [
    "display(messages.head())\n",
    "messages.info()"
   ]
  },
  {
   "cell_type": "code",
   "execution_count": 5,
   "id": "0128c69a-3be8-4d5b-a3a6-6b66a5d677f4",
   "metadata": {
    "execution": {
     "iopub.execute_input": "2024-09-01T17:18:48.715677Z",
     "iopub.status.busy": "2024-09-01T17:18:48.715519Z",
     "iopub.status.idle": "2024-09-01T17:18:48.863369Z",
     "shell.execute_reply": "2024-09-01T17:18:48.862862Z",
     "shell.execute_reply.started": "2024-09-01T17:18:48.715667Z"
    }
   },
   "outputs": [
    {
     "data": {
      "text/html": [
       "<div>\n",
       "<style scoped>\n",
       "    .dataframe tbody tr th:only-of-type {\n",
       "        vertical-align: middle;\n",
       "    }\n",
       "\n",
       "    .dataframe tbody tr th {\n",
       "        vertical-align: top;\n",
       "    }\n",
       "\n",
       "    .dataframe thead th {\n",
       "        text-align: right;\n",
       "    }\n",
       "</style>\n",
       "<table border=\"1\" class=\"dataframe\">\n",
       "  <thead>\n",
       "    <tr style=\"text-align: right;\">\n",
       "      <th></th>\n",
       "      <th>client_id</th>\n",
       "      <th>quantity</th>\n",
       "      <th>price</th>\n",
       "      <th>category_ids</th>\n",
       "      <th>date</th>\n",
       "      <th>message_id</th>\n",
       "    </tr>\n",
       "  </thead>\n",
       "  <tbody>\n",
       "    <tr>\n",
       "      <th>0</th>\n",
       "      <td>1515915625468169594</td>\n",
       "      <td>1</td>\n",
       "      <td>1999.0</td>\n",
       "      <td>['4', '28', '57', '431']</td>\n",
       "      <td>2022-05-16</td>\n",
       "      <td>1515915625468169594-4301-627b661e9736d</td>\n",
       "    </tr>\n",
       "    <tr>\n",
       "      <th>1</th>\n",
       "      <td>1515915625468169594</td>\n",
       "      <td>1</td>\n",
       "      <td>2499.0</td>\n",
       "      <td>['4', '28', '57', '431']</td>\n",
       "      <td>2022-05-16</td>\n",
       "      <td>1515915625468169594-4301-627b661e9736d</td>\n",
       "    </tr>\n",
       "    <tr>\n",
       "      <th>2</th>\n",
       "      <td>1515915625471138230</td>\n",
       "      <td>1</td>\n",
       "      <td>6499.0</td>\n",
       "      <td>['4', '28', '57', '431']</td>\n",
       "      <td>2022-05-16</td>\n",
       "      <td>1515915625471138230-4437-6282242f27843</td>\n",
       "    </tr>\n",
       "    <tr>\n",
       "      <th>3</th>\n",
       "      <td>1515915625471138230</td>\n",
       "      <td>1</td>\n",
       "      <td>4999.0</td>\n",
       "      <td>['4', '28', '244', '432']</td>\n",
       "      <td>2022-05-16</td>\n",
       "      <td>1515915625471138230-4437-6282242f27843</td>\n",
       "    </tr>\n",
       "    <tr>\n",
       "      <th>4</th>\n",
       "      <td>1515915625471138230</td>\n",
       "      <td>1</td>\n",
       "      <td>4999.0</td>\n",
       "      <td>['4', '28', '49', '413']</td>\n",
       "      <td>2022-05-16</td>\n",
       "      <td>1515915625471138230-4437-6282242f27843</td>\n",
       "    </tr>\n",
       "  </tbody>\n",
       "</table>\n",
       "</div>"
      ],
      "text/plain": [
       "             client_id  quantity   price               category_ids  \\\n",
       "0  1515915625468169594         1  1999.0   ['4', '28', '57', '431']   \n",
       "1  1515915625468169594         1  2499.0   ['4', '28', '57', '431']   \n",
       "2  1515915625471138230         1  6499.0   ['4', '28', '57', '431']   \n",
       "3  1515915625471138230         1  4999.0  ['4', '28', '244', '432']   \n",
       "4  1515915625471138230         1  4999.0   ['4', '28', '49', '413']   \n",
       "\n",
       "        date                              message_id  \n",
       "0 2022-05-16  1515915625468169594-4301-627b661e9736d  \n",
       "1 2022-05-16  1515915625468169594-4301-627b661e9736d  \n",
       "2 2022-05-16  1515915625471138230-4437-6282242f27843  \n",
       "3 2022-05-16  1515915625471138230-4437-6282242f27843  \n",
       "4 2022-05-16  1515915625471138230-4437-6282242f27843  "
      ]
     },
     "metadata": {},
     "output_type": "display_data"
    },
    {
     "name": "stdout",
     "output_type": "stream",
     "text": [
      "<class 'pandas.core.frame.DataFrame'>\n",
      "RangeIndex: 202208 entries, 0 to 202207\n",
      "Data columns (total 6 columns):\n",
      " #   Column        Non-Null Count   Dtype         \n",
      "---  ------        --------------   -----         \n",
      " 0   client_id     202208 non-null  int64         \n",
      " 1   quantity      202208 non-null  int64         \n",
      " 2   price         202208 non-null  float64       \n",
      " 3   category_ids  202208 non-null  object        \n",
      " 4   date          202208 non-null  datetime64[ns]\n",
      " 5   message_id    202208 non-null  object        \n",
      "dtypes: datetime64[ns](1), float64(1), int64(2), object(2)\n",
      "memory usage: 9.3+ MB\n"
     ]
    }
   ],
   "source": [
    "display(purchase.head())\n",
    "purchase.info()"
   ]
  },
  {
   "cell_type": "code",
   "execution_count": 6,
   "id": "ba387f87-d29f-472b-b4a6-2435d7b3b1b4",
   "metadata": {
    "execution": {
     "iopub.execute_input": "2024-09-01T17:18:48.864092Z",
     "iopub.status.busy": "2024-09-01T17:18:48.863969Z",
     "iopub.status.idle": "2024-09-01T17:18:48.949229Z",
     "shell.execute_reply": "2024-09-01T17:18:48.948724Z",
     "shell.execute_reply.started": "2024-09-01T17:18:48.864082Z"
    }
   },
   "outputs": [
    {
     "data": {
      "text/html": [
       "<div>\n",
       "<style scoped>\n",
       "    .dataframe tbody tr th:only-of-type {\n",
       "        vertical-align: middle;\n",
       "    }\n",
       "\n",
       "    .dataframe tbody tr th {\n",
       "        vertical-align: top;\n",
       "    }\n",
       "\n",
       "    .dataframe thead th {\n",
       "        text-align: right;\n",
       "    }\n",
       "</style>\n",
       "<table border=\"1\" class=\"dataframe\">\n",
       "  <thead>\n",
       "    <tr style=\"text-align: right;\">\n",
       "      <th></th>\n",
       "      <th>client_id</th>\n",
       "      <th>target</th>\n",
       "    </tr>\n",
       "  </thead>\n",
       "  <tbody>\n",
       "    <tr>\n",
       "      <th>0</th>\n",
       "      <td>1515915625468060902</td>\n",
       "      <td>0</td>\n",
       "    </tr>\n",
       "    <tr>\n",
       "      <th>1</th>\n",
       "      <td>1515915625468061003</td>\n",
       "      <td>1</td>\n",
       "    </tr>\n",
       "    <tr>\n",
       "      <th>2</th>\n",
       "      <td>1515915625468061099</td>\n",
       "      <td>0</td>\n",
       "    </tr>\n",
       "    <tr>\n",
       "      <th>3</th>\n",
       "      <td>1515915625468061100</td>\n",
       "      <td>0</td>\n",
       "    </tr>\n",
       "    <tr>\n",
       "      <th>4</th>\n",
       "      <td>1515915625468061170</td>\n",
       "      <td>0</td>\n",
       "    </tr>\n",
       "  </tbody>\n",
       "</table>\n",
       "</div>"
      ],
      "text/plain": [
       "             client_id  target\n",
       "0  1515915625468060902       0\n",
       "1  1515915625468061003       1\n",
       "2  1515915625468061099       0\n",
       "3  1515915625468061100       0\n",
       "4  1515915625468061170       0"
      ]
     },
     "metadata": {},
     "output_type": "display_data"
    },
    {
     "name": "stdout",
     "output_type": "stream",
     "text": [
      "<class 'pandas.core.frame.DataFrame'>\n",
      "RangeIndex: 49849 entries, 0 to 49848\n",
      "Data columns (total 2 columns):\n",
      " #   Column     Non-Null Count  Dtype\n",
      "---  ------     --------------  -----\n",
      " 0   client_id  49849 non-null  int64\n",
      " 1   target     49849 non-null  int64\n",
      "dtypes: int64(2)\n",
      "memory usage: 779.0 KB\n"
     ]
    }
   ],
   "source": [
    "display(target.head())\n",
    "target.info()"
   ]
  },
  {
   "cell_type": "markdown",
   "id": "f8cc1273-eb7a-4a9f-b908-3c641da077b7",
   "metadata": {},
   "source": [
    "Мы видим, что данные загрузились корректно. На первый взгляд явные пропуски в данных отуствуют, проанализируем наличие неявных пропусков далее.  "
   ]
  },
  {
   "cell_type": "markdown",
   "id": "d47365da-8f4b-4178-a160-8791178f0573",
   "metadata": {},
   "source": [
    "## Обработка данных"
   ]
  },
  {
   "cell_type": "markdown",
   "id": "bfd3f1bd-23ae-420e-b51b-1b32f8f868e6",
   "metadata": {
    "execution": {
     "iopub.execute_input": "2024-08-29T08:08:07.395901Z",
     "iopub.status.busy": "2024-08-29T08:08:07.395696Z",
     "iopub.status.idle": "2024-08-29T08:08:07.398411Z",
     "shell.execute_reply": "2024-08-29T08:08:07.398034Z",
     "shell.execute_reply.started": "2024-08-29T08:08:07.395889Z"
    }
   },
   "source": [
    "### Разделение message_id"
   ]
  },
  {
   "cell_type": "markdown",
   "id": "1629a31e-ad62-4c3c-bd7e-767a934f5cba",
   "metadata": {},
   "source": [
    "Сразу заметим, что в наборах данных purchase и messages поле message_id состоит из трех компонент: id клиента, id рекламной кампании и id самого сообщения. Выделим комнонеты id кампании и id сообщения отдельно (идентификатор клиента уже присутствует). Возможно они понадобятся нам для дальнейших агрегаций."
   ]
  },
  {
   "cell_type": "code",
   "execution_count": 7,
   "id": "a0090d34-9bb3-449d-b0e6-66bd62d4211c",
   "metadata": {
    "execution": {
     "iopub.execute_input": "2024-09-01T17:18:48.950885Z",
     "iopub.status.busy": "2024-09-01T17:18:48.950721Z",
     "iopub.status.idle": "2024-09-01T17:19:05.083852Z",
     "shell.execute_reply": "2024-09-01T17:19:05.083181Z",
     "shell.execute_reply.started": "2024-09-01T17:18:48.950874Z"
    },
    "scrolled": true
   },
   "outputs": [
    {
     "name": "stdout",
     "output_type": "stream",
     "text": [
      "CPU times: user 13.9 s, sys: 2.04 s, total: 15.9 s\n",
      "Wall time: 16 s\n"
     ]
    }
   ],
   "source": [
    "%%time\n",
    "\n",
    "messages_message_id = messages['message_id'].str.split(\"-\", expand = True).iloc[:,2:]\n",
    "messages_message_id.columns = ['m_message']\n",
    "\n",
    "messages = pd.concat([messages,messages_message_id],axis =1)\n",
    "\n",
    "purchase_message_id_campaign_id = purchase['message_id'].str.split(\"-\", expand = True).iloc[:,1:]\n",
    "purchase_message_id_campaign_id.columns = ['m_campaign_id','m_message']\n",
    "\n",
    "purchase = pd.concat([purchase,purchase_message_id_campaign_id],axis =1)"
   ]
  },
  {
   "cell_type": "markdown",
   "id": "17468701-bb70-49a6-87d7-784f13f73587",
   "metadata": {},
   "source": [
    "### Обработка category_ids"
   ]
  },
  {
   "cell_type": "markdown",
   "id": "ae7f0608-2b2e-4ce8-8180-0650c58fcb54",
   "metadata": {},
   "source": [
    "Далее, отметим, что поле category_id состоит из списка значений. В явном виде с такими данными сложно работать, поэтому поработаем над преобразованием этого поля."
   ]
  },
  {
   "cell_type": "code",
   "execution_count": 8,
   "id": "8e986c5c-849d-4cff-9fbb-7317e8c2f0e5",
   "metadata": {
    "execution": {
     "iopub.execute_input": "2024-09-01T17:19:05.084866Z",
     "iopub.status.busy": "2024-09-01T17:19:05.084714Z",
     "iopub.status.idle": "2024-09-01T17:19:05.098578Z",
     "shell.execute_reply": "2024-09-01T17:19:05.098198Z",
     "shell.execute_reply.started": "2024-09-01T17:19:05.084855Z"
    }
   },
   "outputs": [
    {
     "data": {
      "text/plain": [
       "508            ['1', '22', '50', '685']\n",
       "327            ['1', '8', '280', '710']\n",
       "305           ['2', '17', '107', '453']\n",
       "166           ['2', '17', '137', '469']\n",
       "108           ['2', '17', '171', '475']\n",
       "                     ...               \n",
       "904    ['6060', '6059', '6071', '6292']\n",
       "725    ['6060', '6059', '6072', '1853']\n",
       "713    ['6060', '6059', '6076', '1153']\n",
       "431                              [None]\n",
       "502                                  []\n",
       "Length: 933, dtype: object"
      ]
     },
     "execution_count": 8,
     "metadata": {},
     "output_type": "execute_result"
    }
   ],
   "source": [
    "# Рассмотри уникальный значения\n",
    "pd.Series(purchase['category_ids'].unique()).sort_values()"
   ]
  },
  {
   "cell_type": "markdown",
   "id": "7f5bb0dd-0e86-430c-8f26-9c77e18430c9",
   "metadata": {},
   "source": [
    "Видим, что хоть  и в неявном виде, но все таки в этом поле присутствуют пропуски - значения None,'[]'."
   ]
  },
  {
   "cell_type": "code",
   "execution_count": 9,
   "id": "0b7ba2d9-47de-49f8-837c-d07f8a1a0213",
   "metadata": {
    "execution": {
     "iopub.execute_input": "2024-09-01T17:19:05.099257Z",
     "iopub.status.busy": "2024-09-01T17:19:05.099135Z",
     "iopub.status.idle": "2024-09-01T17:19:19.628842Z",
     "shell.execute_reply": "2024-09-01T17:19:19.628310Z",
     "shell.execute_reply.started": "2024-09-01T17:19:05.099247Z"
    }
   },
   "outputs": [],
   "source": [
    "# Трансформирует столбце из текстового в списки\n",
    "purchase['category_ids'] = purchase['category_ids'].apply(lambda x: x.strip(\"[]\").replace(\"'\", \"\").split(\", \"))\n",
    "\n",
    "# Заполним пропущенные значения значениями Na в явном виде для дальнейшего удобства обработки\n",
    "purchase['category_ids'] = np.where(purchase['category_ids'].isin([['None'],['']]), np.nan ,purchase['category_ids'])\n",
    "\n",
    "\n",
    "# Выделим подстолбец для каждой категории\n",
    "purchase_expanded = purchase['category_ids'].apply(pd.Series)\n",
    "purchase_expanded.columns = ['cat1','cat2','cat3','cat4','cat5']"
   ]
  },
  {
   "cell_type": "markdown",
   "id": "87abba8b-b252-4fc6-a46d-8797a1b0dcf6",
   "metadata": {},
   "source": [
    "Рассмотрим отдельно получивший набор категорий и подкатегорий"
   ]
  },
  {
   "cell_type": "code",
   "execution_count": 10,
   "id": "d48b7e6f-7ed8-4c01-b0ee-a2094f4d160f",
   "metadata": {
    "execution": {
     "iopub.execute_input": "2024-09-01T17:19:19.629629Z",
     "iopub.status.busy": "2024-09-01T17:19:19.629500Z",
     "iopub.status.idle": "2024-09-01T17:19:19.734298Z",
     "shell.execute_reply": "2024-09-01T17:19:19.733802Z",
     "shell.execute_reply.started": "2024-09-01T17:19:19.629618Z"
    }
   },
   "outputs": [
    {
     "name": "stdout",
     "output_type": "stream",
     "text": [
      "<class 'pandas.core.frame.DataFrame'>\n",
      "RangeIndex: 202208 entries, 0 to 202207\n",
      "Data columns (total 5 columns):\n",
      " #   Column  Non-Null Count   Dtype \n",
      "---  ------  --------------   ----- \n",
      " 0   cat1    195365 non-null  object\n",
      " 1   cat2    195365 non-null  object\n",
      " 2   cat3    195365 non-null  object\n",
      " 3   cat4    194009 non-null  object\n",
      " 4   cat5    518 non-null     object\n",
      "dtypes: object(5)\n",
      "memory usage: 7.7+ MB\n"
     ]
    }
   ],
   "source": [
    "purchase_expanded.info()"
   ]
  },
  {
   "cell_type": "code",
   "execution_count": 11,
   "id": "d2135592-7347-41e5-97a3-707078f3c72f",
   "metadata": {
    "execution": {
     "iopub.execute_input": "2024-09-01T17:19:19.735210Z",
     "iopub.status.busy": "2024-09-01T17:19:19.734891Z",
     "iopub.status.idle": "2024-09-01T17:19:19.949877Z",
     "shell.execute_reply": "2024-09-01T17:19:19.949352Z",
     "shell.execute_reply.started": "2024-09-01T17:19:19.735198Z"
    }
   },
   "outputs": [
    {
     "name": "stdout",
     "output_type": "stream",
     "text": [
      "9\n",
      "32\n",
      "292\n",
      "839\n",
      "2\n"
     ]
    }
   ],
   "source": [
    "print(len(purchase_expanded['cat1'].unique()))\n",
    "print(len(purchase_expanded['cat2'].unique()))\n",
    "print(len(purchase_expanded['cat3'].unique()))\n",
    "print(len(purchase_expanded['cat4'].unique()))\n",
    "print(len(purchase_expanded['cat5'].unique()))"
   ]
  },
  {
   "cell_type": "markdown",
   "id": "a25c561d-7c04-4252-97a5-a82b9f39925f",
   "metadata": {},
   "source": [
    "Мвы видимм, что количество уникальных категорий растет с ростом уровня детализации (что логично). Для построения модели и сохранения обобщающей способности нам необходимо оставить разумное количество категорий (не очень большое).\n",
    "Попробуем работать с категорией 1 и категорией 2.\n",
    "\n",
    "Кроме этого, мы видим, что для ~7 покупок отсутствют данные о категории в целом. Заполним эти пропуски на основе того, какие категории таргетились для соответствующих campaign id и message id (данные поля мы выделили ранее)."
   ]
  },
  {
   "cell_type": "code",
   "execution_count": 12,
   "id": "4674cdc8-e63f-460a-95c5-c4515588a591",
   "metadata": {
    "execution": {
     "iopub.execute_input": "2024-09-01T17:19:19.950679Z",
     "iopub.status.busy": "2024-09-01T17:19:19.950510Z",
     "iopub.status.idle": "2024-09-01T17:19:23.884284Z",
     "shell.execute_reply": "2024-09-01T17:19:23.883742Z",
     "shell.execute_reply.started": "2024-09-01T17:19:19.950669Z"
    }
   },
   "outputs": [],
   "source": [
    "purchase_expanded['category_reduced'] = purchase_expanded[['cat1', 'cat2']].apply(lambda x: ''.join(x.astype(str)), axis=1)"
   ]
  },
  {
   "cell_type": "code",
   "execution_count": 13,
   "id": "b487ca3d-be9b-4452-9c24-ae7be77c3a3f",
   "metadata": {
    "execution": {
     "iopub.execute_input": "2024-09-01T17:19:23.885093Z",
     "iopub.status.busy": "2024-09-01T17:19:23.884941Z",
     "iopub.status.idle": "2024-09-01T17:19:23.904470Z",
     "shell.execute_reply": "2024-09-01T17:19:23.904085Z",
     "shell.execute_reply.started": "2024-09-01T17:19:23.885082Z"
    }
   },
   "outputs": [
    {
     "data": {
      "text/plain": [
       "428         80143\n",
       "218         24314\n",
       "427         12216\n",
       "55625630     9753\n",
       "431          8507\n",
       "55625631     8323\n",
       "nannan       6843\n",
       "55625589     6206\n",
       "55625633     5733\n",
       "60606058     5543\n",
       "55625536     5366\n",
       "429          5049\n",
       "55625634     4928\n",
       "41822        4499\n",
       "217          3115\n",
       "55625597     2356\n",
       "55625632     1856\n",
       "444          1303\n",
       "59635959     1272\n",
       "55625683     1157\n",
       "60606057     1078\n",
       "60606059      938\n",
       "45837         763\n",
       "55625558      430\n",
       "55625599      306\n",
       "430            98\n",
       "55625697       97\n",
       "312             7\n",
       "314             4\n",
       "122             2\n",
       "510             2\n",
       "18              1\n",
       "Name: category_reduced, dtype: int64"
      ]
     },
     "execution_count": 13,
     "metadata": {},
     "output_type": "execute_result"
    }
   ],
   "source": [
    "purchase_expanded['category_reduced'].value_counts()"
   ]
  },
  {
   "cell_type": "markdown",
   "id": "9d6f2a79-5603-410b-8456-97a79dd75693",
   "metadata": {},
   "source": [
    "Видим, что результат сомнительный. Существуют категории длинной 2 и длинной 8. Налицо неконсистентность правил заполнения категории со стороны заказчика. Для того чтобы сделать более осознанное преобразование категорий необходима дополнительная информация со стороны заказчика. Можем заметить, что у многих категорий повторяются первые две цифры - попробуем оставить первые две цифры от каждого кода."
   ]
  },
  {
   "cell_type": "code",
   "execution_count": 14,
   "id": "609f18d2-c37c-4607-87a0-96ab7269db59",
   "metadata": {
    "execution": {
     "iopub.execute_input": "2024-09-01T17:19:23.905208Z",
     "iopub.status.busy": "2024-09-01T17:19:23.905023Z",
     "iopub.status.idle": "2024-09-01T17:19:24.081571Z",
     "shell.execute_reply": "2024-09-01T17:19:24.081141Z",
     "shell.execute_reply.started": "2024-09-01T17:19:23.905197Z"
    }
   },
   "outputs": [
    {
     "data": {
      "text/plain": [
       "42    97408\n",
       "55    46511\n",
       "21    27429\n",
       "43     8605\n",
       "60     7559\n",
       "na     6843\n",
       "41     4499\n",
       "44     1303\n",
       "59     1272\n",
       "45      763\n",
       "31       11\n",
       "12        2\n",
       "51        2\n",
       "18        1\n",
       "Name: category_reduced, dtype: int64"
      ]
     },
     "execution_count": 14,
     "metadata": {},
     "output_type": "execute_result"
    }
   ],
   "source": [
    "purchase_expanded['category_reduced'] = purchase_expanded['category_reduced'].str[:2]\n",
    "purchase_expanded['category_reduced'].value_counts()"
   ]
  },
  {
   "cell_type": "markdown",
   "id": "a82777e9-b19e-44a5-9917-b4809c7e7969",
   "metadata": {},
   "source": [
    "Видим, что получились достаточно крупные категории, что хорошо для нас. Более мелкие категории на данном этапе мы убирать не будем. При подготовке фичей модели нам предстоит агрегировать данные на уровень клиентов - если на этом этапе останутся редкие категории, тогда обрабоатем их.\n",
    "\n",
    "Для заполнения пропусков мы определим для каждой campaign_id и m_message самую часто встречающуюся категорию и ею заполним прпоуски."
   ]
  },
  {
   "cell_type": "code",
   "execution_count": 15,
   "id": "f062e6c4-4e29-437a-9306-f96cc8518878",
   "metadata": {
    "execution": {
     "iopub.execute_input": "2024-09-01T17:19:24.082332Z",
     "iopub.status.busy": "2024-09-01T17:19:24.082166Z",
     "iopub.status.idle": "2024-09-01T17:19:24.170300Z",
     "shell.execute_reply": "2024-09-01T17:19:24.169797Z",
     "shell.execute_reply.started": "2024-09-01T17:19:24.082322Z"
    }
   },
   "outputs": [],
   "source": [
    "purchase['category_reduced'] = np.where(purchase_expanded['category_reduced']=='na', np.nan, purchase_expanded['category_reduced'])"
   ]
  },
  {
   "cell_type": "code",
   "execution_count": 16,
   "id": "93f415f7-8806-49f0-ae45-306ae717f0ff",
   "metadata": {
    "execution": {
     "iopub.execute_input": "2024-09-01T17:19:24.171158Z",
     "iopub.status.busy": "2024-09-01T17:19:24.170982Z",
     "iopub.status.idle": "2024-09-01T17:19:35.363064Z",
     "shell.execute_reply": "2024-09-01T17:19:35.362497Z",
     "shell.execute_reply.started": "2024-09-01T17:19:24.171147Z"
    }
   },
   "outputs": [],
   "source": [
    "purchase['category_reduced'] = purchase.groupby(['m_campaign_id','m_message'])['category_reduced'].transform(lambda x: x.fillna(x.mode().iloc[0] if not x.mode().empty else np.nan))"
   ]
  },
  {
   "cell_type": "code",
   "execution_count": 17,
   "id": "d91851fa-ab6f-4974-978a-a324c7b481c9",
   "metadata": {
    "execution": {
     "iopub.execute_input": "2024-09-01T17:19:35.363876Z",
     "iopub.status.busy": "2024-09-01T17:19:35.363751Z",
     "iopub.status.idle": "2024-09-01T17:19:35.373098Z",
     "shell.execute_reply": "2024-09-01T17:19:35.372736Z",
     "shell.execute_reply.started": "2024-09-01T17:19:35.363865Z"
    }
   },
   "outputs": [
    {
     "data": {
      "text/plain": [
       "7"
      ]
     },
     "execution_count": 17,
     "metadata": {},
     "output_type": "execute_result"
    }
   ],
   "source": [
    "purchase.category_reduced.isna().sum()"
   ]
  },
  {
   "cell_type": "markdown",
   "id": "1316a955-1ef4-4af0-8f33-bfed5d7c2f16",
   "metadata": {},
   "source": [
    "Нам удалось заполнить подавляющее большинство пропусков (осталось всего 7). Оставшиеся пропуски заполним самой часто встречающейся категорией."
   ]
  },
  {
   "cell_type": "code",
   "execution_count": 18,
   "id": "50c6d3b1-9092-4047-bfc1-aebdc9bd46b1",
   "metadata": {
    "execution": {
     "iopub.execute_input": "2024-09-01T17:19:35.373798Z",
     "iopub.status.busy": "2024-09-01T17:19:35.373593Z",
     "iopub.status.idle": "2024-09-01T17:19:35.546095Z",
     "shell.execute_reply": "2024-09-01T17:19:35.545572Z",
     "shell.execute_reply.started": "2024-09-01T17:19:35.373787Z"
    }
   },
   "outputs": [],
   "source": [
    "purchase['category_reduced'] = purchase['category_reduced'].fillna(purchase['category_reduced'].dropna().mode()[0])"
   ]
  },
  {
   "cell_type": "markdown",
   "id": "cba70f1e-7a47-4c14-bdd1-946d64bd09ac",
   "metadata": {
    "execution": {
     "iopub.execute_input": "2024-08-29T09:06:29.246511Z",
     "iopub.status.busy": "2024-08-29T09:06:29.246133Z",
     "iopub.status.idle": "2024-08-29T09:06:29.249020Z",
     "shell.execute_reply": "2024-08-29T09:06:29.248611Z",
     "shell.execute_reply.started": "2024-08-29T09:06:29.246491Z"
    }
   },
   "source": [
    "### Обработка переменной event наборe данных messages"
   ]
  },
  {
   "cell_type": "markdown",
   "id": "af525b4f-4226-48e4-83b6-59d4bb94cab2",
   "metadata": {},
   "source": [
    "Рассмотирм уникальные значения:"
   ]
  },
  {
   "cell_type": "code",
   "execution_count": 19,
   "id": "66def7de-c7b0-412d-b2e4-4fa6d67afd5c",
   "metadata": {
    "execution": {
     "iopub.execute_input": "2024-09-01T17:19:35.546916Z",
     "iopub.status.busy": "2024-09-01T17:19:35.546741Z",
     "iopub.status.idle": "2024-09-01T17:19:35.944361Z",
     "shell.execute_reply": "2024-09-01T17:19:35.943907Z",
     "shell.execute_reply.started": "2024-09-01T17:19:35.546905Z"
    }
   },
   "outputs": [
    {
     "data": {
      "text/plain": [
       "send           9058196\n",
       "open           3085820\n",
       "click           496339\n",
       "purchase         64679\n",
       "hard_bounce      19903\n",
       "soft_bounce      10583\n",
       "unsubscribe       2841\n",
       "hbq_spam           823\n",
       "complain           528\n",
       "subscribe           85\n",
       "close                1\n",
       "Name: event, dtype: int64"
      ]
     },
     "execution_count": 19,
     "metadata": {},
     "output_type": "execute_result"
    }
   ],
   "source": [
    "messages.event.value_counts()"
   ]
  },
  {
   "cell_type": "markdown",
   "id": "084ede4e-9c8f-4c5c-b365-b59d75ca7d0c",
   "metadata": {},
   "source": [
    "Мы видим много различных наименовай, в том числе с малым количеством наблюдений. Предлагаем укрупнить категории по следующему принципу:  \n",
    "send - сообщение отправлено, все логично и остается без изменений  \n",
    "open, close, subscribe - значат, что клиент увидел сообщение, назовем такую категорию просто open  \n",
    "complain, unsubscribe, hbq_spam - значат, что клиент увидел сообщение и испытал негативный опыт, выделим это в категорию negative_exp  \n",
    "soft_bounce, hard_bounce - значат, что сообщение вовсе не дошло до пользователя по техническим причинам, введем категорию not_received  \n",
    "click - перешел по ссылке, оставляем без изменений  \n",
    "purchase - совершил покупку, оставляем без изменений"
   ]
  },
  {
   "cell_type": "code",
   "execution_count": 20,
   "id": "c7504eba-452b-4c24-a5eb-868d3ab8a006",
   "metadata": {
    "execution": {
     "iopub.execute_input": "2024-09-01T17:19:35.945124Z",
     "iopub.status.busy": "2024-09-01T17:19:35.944954Z",
     "iopub.status.idle": "2024-09-01T17:19:37.105196Z",
     "shell.execute_reply": "2024-09-01T17:19:37.104656Z",
     "shell.execute_reply.started": "2024-09-01T17:19:35.945113Z"
    }
   },
   "outputs": [],
   "source": [
    "messages['new_event'] = np.where(messages['event'].isin(['open', 'close', 'subscribe']), 'open', \n",
    "                                 np.where(messages['event'].isin(['complain','unsubscribe','hbq_spam']), 'negative_exp' ,\n",
    "                                         np.where(messages['event'].isin(['soft_bounce', 'hard_bounce']), 'not_received' , messages['event'])))"
   ]
  },
  {
   "cell_type": "code",
   "execution_count": 21,
   "id": "63436027-c54a-4332-a08f-b44e17294891",
   "metadata": {
    "execution": {
     "iopub.execute_input": "2024-09-01T17:19:37.106049Z",
     "iopub.status.busy": "2024-09-01T17:19:37.105853Z",
     "iopub.status.idle": "2024-09-01T17:19:37.456773Z",
     "shell.execute_reply": "2024-09-01T17:19:37.456357Z",
     "shell.execute_reply.started": "2024-09-01T17:19:37.106037Z"
    }
   },
   "outputs": [
    {
     "data": {
      "text/plain": [
       "send            9058196\n",
       "open            3085906\n",
       "click            496339\n",
       "purchase          64679\n",
       "not_received      30486\n",
       "negative_exp       4192\n",
       "Name: new_event, dtype: int64"
      ]
     },
     "execution_count": 21,
     "metadata": {},
     "output_type": "execute_result"
    }
   ],
   "source": [
    "messages['new_event'].value_counts()"
   ]
  },
  {
   "cell_type": "markdown",
   "id": "dcad3bd0-6d5e-47f0-b917-c575cc727bdb",
   "metadata": {
    "execution": {
     "iopub.execute_input": "2024-08-29T09:44:01.376019Z",
     "iopub.status.busy": "2024-08-29T09:44:01.375673Z",
     "iopub.status.idle": "2024-08-29T09:44:01.378476Z",
     "shell.execute_reply": "2024-08-29T09:44:01.378041Z",
     "shell.execute_reply.started": "2024-08-29T09:44:01.376004Z"
    }
   },
   "source": [
    "## Агрегация данных на уровень клиента"
   ]
  },
  {
   "cell_type": "markdown",
   "id": "e3627207-3248-4654-acec-1008b0f2bbc7",
   "metadata": {},
   "source": [
    "Наша цель - получить набор признаков для модели на уровне клиентов.\n",
    "Сейчас мы имеем раззрозненные данные на уровнях клиентов/ маркетинговых кампаний / маркетинговх сообщений. В данной секции займемся агрегацией на уровень клиентов."
   ]
  },
  {
   "cell_type": "markdown",
   "id": "0cfb52d6-5fb1-4b3d-8ab8-f6dbde5edcb9",
   "metadata": {},
   "source": [
    "### Агрегация в наборе purchase"
   ]
  },
  {
   "cell_type": "markdown",
   "id": "3a15cae0-3d8b-4477-aa53-3179c3120262",
   "metadata": {},
   "source": [
    "Из набора данных messages на уровне клиента определим следующие показатели:  \n",
    "* lifetime_purchase - длительность периода между первой и последней покупкой клиента в днях\n",
    "* purch_count - количество покупок из набора данных purchase\n",
    "* fav_category - самый часто встречающий код покупок клиента, сокращенный до первых 2-х цифр\n",
    "* average_bill - средний чек"
   ]
  },
  {
   "cell_type": "code",
   "execution_count": 22,
   "id": "25fa2160-5b0f-4fc7-875e-183dab26f65a",
   "metadata": {
    "execution": {
     "iopub.execute_input": "2024-09-01T17:19:37.459445Z",
     "iopub.status.busy": "2024-09-01T17:19:37.459225Z",
     "iopub.status.idle": "2024-09-01T17:19:37.645823Z",
     "shell.execute_reply": "2024-09-01T17:19:37.645291Z",
     "shell.execute_reply.started": "2024-09-01T17:19:37.459434Z"
    }
   },
   "outputs": [],
   "source": [
    "#Оставим только клиентов присутствующих в target\n",
    "purchase = purchase[purchase['client_id'].isin(target['client_id'])].reset_index(drop=True)"
   ]
  },
  {
   "cell_type": "code",
   "execution_count": 23,
   "id": "7a91eb83-c647-4cfc-b5d7-c775c808eebe",
   "metadata": {
    "execution": {
     "iopub.execute_input": "2024-09-01T17:19:37.646582Z",
     "iopub.status.busy": "2024-09-01T17:19:37.646449Z",
     "iopub.status.idle": "2024-09-01T17:19:37.715380Z",
     "shell.execute_reply": "2024-09-01T17:19:37.714887Z",
     "shell.execute_reply.started": "2024-09-01T17:19:37.646571Z"
    }
   },
   "outputs": [],
   "source": [
    "# Введем переменную размер чека покупки\n",
    "purchase['bill'] = purchase['quantity'] * purchase['price']"
   ]
  },
  {
   "cell_type": "code",
   "execution_count": 24,
   "id": "5057a47f-6c36-4c8a-893e-34fcc2ce3f9a",
   "metadata": {
    "execution": {
     "iopub.execute_input": "2024-09-01T17:19:37.716197Z",
     "iopub.status.busy": "2024-09-01T17:19:37.716030Z",
     "iopub.status.idle": "2024-09-01T17:19:42.959683Z",
     "shell.execute_reply": "2024-09-01T17:19:42.959183Z",
     "shell.execute_reply.started": "2024-09-01T17:19:37.716187Z"
    }
   },
   "outputs": [],
   "source": [
    "purch_agg = purchase.groupby('client_id').agg(\n",
    "    lifetime_purchase = ('date', lambda x: (x.max() - x.min()).days+1), \n",
    "    purch_count  = ('client_id', 'count'), \n",
    "    fav_category = ('category_reduced', lambda x: x.mode()[0]),\n",
    "    averag_bill = ('bill', 'mean') \n",
    ")"
   ]
  },
  {
   "cell_type": "code",
   "execution_count": 25,
   "id": "0417098f-8cd4-484b-bd10-f8bed0ec2a41",
   "metadata": {
    "execution": {
     "iopub.execute_input": "2024-09-01T17:19:42.960445Z",
     "iopub.status.busy": "2024-09-01T17:19:42.960321Z",
     "iopub.status.idle": "2024-09-01T17:19:42.964998Z",
     "shell.execute_reply": "2024-09-01T17:19:42.964644Z",
     "shell.execute_reply.started": "2024-09-01T17:19:42.960435Z"
    }
   },
   "outputs": [
    {
     "data": {
      "text/html": [
       "<div>\n",
       "<style scoped>\n",
       "    .dataframe tbody tr th:only-of-type {\n",
       "        vertical-align: middle;\n",
       "    }\n",
       "\n",
       "    .dataframe tbody tr th {\n",
       "        vertical-align: top;\n",
       "    }\n",
       "\n",
       "    .dataframe thead th {\n",
       "        text-align: right;\n",
       "    }\n",
       "</style>\n",
       "<table border=\"1\" class=\"dataframe\">\n",
       "  <thead>\n",
       "    <tr style=\"text-align: right;\">\n",
       "      <th></th>\n",
       "      <th>lifetime_purchase</th>\n",
       "      <th>purch_count</th>\n",
       "      <th>fav_category</th>\n",
       "      <th>averag_bill</th>\n",
       "    </tr>\n",
       "    <tr>\n",
       "      <th>client_id</th>\n",
       "      <th></th>\n",
       "      <th></th>\n",
       "      <th></th>\n",
       "      <th></th>\n",
       "    </tr>\n",
       "  </thead>\n",
       "  <tbody>\n",
       "    <tr>\n",
       "      <th>1515915625468060902</th>\n",
       "      <td>1</td>\n",
       "      <td>7</td>\n",
       "      <td>42</td>\n",
       "      <td>999.000000</td>\n",
       "    </tr>\n",
       "    <tr>\n",
       "      <th>1515915625468061003</th>\n",
       "      <td>1</td>\n",
       "      <td>7</td>\n",
       "      <td>42</td>\n",
       "      <td>2319.285714</td>\n",
       "    </tr>\n",
       "    <tr>\n",
       "      <th>1515915625468061099</th>\n",
       "      <td>1</td>\n",
       "      <td>1</td>\n",
       "      <td>42</td>\n",
       "      <td>299.000000</td>\n",
       "    </tr>\n",
       "    <tr>\n",
       "      <th>1515915625468061100</th>\n",
       "      <td>1</td>\n",
       "      <td>2</td>\n",
       "      <td>42</td>\n",
       "      <td>1049.000000</td>\n",
       "    </tr>\n",
       "    <tr>\n",
       "      <th>1515915625468061170</th>\n",
       "      <td>84</td>\n",
       "      <td>19</td>\n",
       "      <td>42</td>\n",
       "      <td>1768.473684</td>\n",
       "    </tr>\n",
       "  </tbody>\n",
       "</table>\n",
       "</div>"
      ],
      "text/plain": [
       "                     lifetime_purchase  purch_count fav_category  averag_bill\n",
       "client_id                                                                    \n",
       "1515915625468060902                  1            7           42   999.000000\n",
       "1515915625468061003                  1            7           42  2319.285714\n",
       "1515915625468061099                  1            1           42   299.000000\n",
       "1515915625468061100                  1            2           42  1049.000000\n",
       "1515915625468061170                 84           19           42  1768.473684"
      ]
     },
     "execution_count": 25,
     "metadata": {},
     "output_type": "execute_result"
    }
   ],
   "source": [
    "purch_agg.head()"
   ]
  },
  {
   "cell_type": "markdown",
   "id": "daaa6352-268f-4c25-82ae-40c0e859fc0c",
   "metadata": {},
   "source": [
    "### Агрегация в наборе messages"
   ]
  },
  {
   "cell_type": "code",
   "execution_count": 26,
   "id": "979fac9d-e31c-4efc-9526-c5a22fb6f5c6",
   "metadata": {
    "execution": {
     "iopub.execute_input": "2024-09-01T17:19:42.965590Z",
     "iopub.status.busy": "2024-09-01T17:19:42.965477Z",
     "iopub.status.idle": "2024-09-01T17:19:45.949713Z",
     "shell.execute_reply": "2024-09-01T17:19:45.949177Z",
     "shell.execute_reply.started": "2024-09-01T17:19:42.965581Z"
    }
   },
   "outputs": [],
   "source": [
    "#Оставим только клиентов присутствующих в target\n",
    "messages = messages[messages['client_id'].isin(target['client_id'])].reset_index(drop=True)"
   ]
  },
  {
   "cell_type": "markdown",
   "id": "9da6088d-49d9-41f2-964b-46f8375adf6c",
   "metadata": {},
   "source": [
    "Из набора данных messages на уровне клиента определим следующие показатели:\n",
    "* email_share - доля канала email в коммуникации с клиентом\n",
    "* lifetime_message - период мжеджу первой и последней рекламной коммуникацией с клиентом\n",
    "* n_camp - кол-во уникальный кампаний, в рамках которых происходила коммуникация с клиентом\n",
    "* n_messages - кол-во уникальный сообщений коммуникации с клиентом\n",
    "* number_send - кол-во отправленных сообщений\n",
    "* number_open - кол-во открытых сообщений\n",
    "* number_click - кол-во переходов\n",
    "* number_purchase - кол-во покупок\n",
    "* number_not_received - кол-во неполученных сообщений\n",
    "* nember_negative_experience - кол-во сообщений, повлекших негативную реакцию"
   ]
  },
  {
   "cell_type": "code",
   "execution_count": 27,
   "id": "345e6047-db3c-4cc2-ba6a-af716ec3e4c5",
   "metadata": {
    "execution": {
     "iopub.execute_input": "2024-09-01T17:19:45.950543Z",
     "iopub.status.busy": "2024-09-01T17:19:45.950370Z",
     "iopub.status.idle": "2024-09-01T17:20:19.660425Z",
     "shell.execute_reply": "2024-09-01T17:20:19.659792Z",
     "shell.execute_reply.started": "2024-09-01T17:19:45.950532Z"
    }
   },
   "outputs": [
    {
     "name": "stdout",
     "output_type": "stream",
     "text": [
      "CPU times: user 32.7 s, sys: 801 ms, total: 33.5 s\n",
      "Wall time: 33.7 s\n"
     ]
    }
   ],
   "source": [
    "%%time\n",
    "message_agg = messages.groupby('client_id').agg(\n",
    "    email_share = ('channel', lambda x: (x=='email').sum()/len(x)),\n",
    "    lifetime_message = ('date', lambda x: (x.max() - x.min()).days+1),\n",
    "    n_camp = ('bulk_campaign_id','nunique'),\n",
    "    n_messages = ('m_message','nunique'), \n",
    "    number_send = ('new_event', lambda x: (x=='send').sum()),\n",
    "    number_open = ('new_event', lambda x: (x=='open').sum()),\n",
    "    number_click = ('new_event', lambda x: (x=='click').sum()),\n",
    "    number_purchase = ('new_event', lambda x: (x=='purchase').sum()),\n",
    "    number_not_received = ('new_event', lambda x: (x=='not_received').sum()),\n",
    "    number_negative_exp = ('new_event', lambda x: (x=='negative_exp').sum())\n",
    ")"
   ]
  },
  {
   "cell_type": "code",
   "execution_count": 28,
   "id": "8e4d677a-44d4-4842-a68f-aa03dbc2020d",
   "metadata": {
    "execution": {
     "iopub.execute_input": "2024-09-01T17:20:19.661374Z",
     "iopub.status.busy": "2024-09-01T17:20:19.661226Z",
     "iopub.status.idle": "2024-09-01T17:20:19.667429Z",
     "shell.execute_reply": "2024-09-01T17:20:19.667068Z",
     "shell.execute_reply.started": "2024-09-01T17:20:19.661363Z"
    }
   },
   "outputs": [
    {
     "data": {
      "text/html": [
       "<div>\n",
       "<style scoped>\n",
       "    .dataframe tbody tr th:only-of-type {\n",
       "        vertical-align: middle;\n",
       "    }\n",
       "\n",
       "    .dataframe tbody tr th {\n",
       "        vertical-align: top;\n",
       "    }\n",
       "\n",
       "    .dataframe thead th {\n",
       "        text-align: right;\n",
       "    }\n",
       "</style>\n",
       "<table border=\"1\" class=\"dataframe\">\n",
       "  <thead>\n",
       "    <tr style=\"text-align: right;\">\n",
       "      <th></th>\n",
       "      <th>email_share</th>\n",
       "      <th>lifetime_message</th>\n",
       "      <th>n_camp</th>\n",
       "      <th>n_messages</th>\n",
       "      <th>number_send</th>\n",
       "      <th>number_open</th>\n",
       "      <th>number_click</th>\n",
       "      <th>number_purchase</th>\n",
       "      <th>number_not_received</th>\n",
       "      <th>number_negative_exp</th>\n",
       "    </tr>\n",
       "    <tr>\n",
       "      <th>client_id</th>\n",
       "      <th></th>\n",
       "      <th></th>\n",
       "      <th></th>\n",
       "      <th></th>\n",
       "      <th></th>\n",
       "      <th></th>\n",
       "      <th></th>\n",
       "      <th></th>\n",
       "      <th></th>\n",
       "      <th></th>\n",
       "    </tr>\n",
       "  </thead>\n",
       "  <tbody>\n",
       "    <tr>\n",
       "      <th>1515915625468060902</th>\n",
       "      <td>1.00000</td>\n",
       "      <td>611</td>\n",
       "      <td>127</td>\n",
       "      <td>127</td>\n",
       "      <td>126</td>\n",
       "      <td>35</td>\n",
       "      <td>10</td>\n",
       "      <td>5</td>\n",
       "      <td>0</td>\n",
       "      <td>1</td>\n",
       "    </tr>\n",
       "    <tr>\n",
       "      <th>1515915625468061003</th>\n",
       "      <td>1.00000</td>\n",
       "      <td>635</td>\n",
       "      <td>154</td>\n",
       "      <td>154</td>\n",
       "      <td>154</td>\n",
       "      <td>5</td>\n",
       "      <td>6</td>\n",
       "      <td>1</td>\n",
       "      <td>0</td>\n",
       "      <td>0</td>\n",
       "    </tr>\n",
       "    <tr>\n",
       "      <th>1515915625468061099</th>\n",
       "      <td>0.65942</td>\n",
       "      <td>636</td>\n",
       "      <td>215</td>\n",
       "      <td>215</td>\n",
       "      <td>215</td>\n",
       "      <td>51</td>\n",
       "      <td>8</td>\n",
       "      <td>0</td>\n",
       "      <td>2</td>\n",
       "      <td>0</td>\n",
       "    </tr>\n",
       "    <tr>\n",
       "      <th>1515915625468061100</th>\n",
       "      <td>0.00000</td>\n",
       "      <td>638</td>\n",
       "      <td>265</td>\n",
       "      <td>268</td>\n",
       "      <td>267</td>\n",
       "      <td>163</td>\n",
       "      <td>1</td>\n",
       "      <td>1</td>\n",
       "      <td>2</td>\n",
       "      <td>0</td>\n",
       "    </tr>\n",
       "    <tr>\n",
       "      <th>1515915625468061170</th>\n",
       "      <td>0.68942</td>\n",
       "      <td>632</td>\n",
       "      <td>240</td>\n",
       "      <td>243</td>\n",
       "      <td>243</td>\n",
       "      <td>31</td>\n",
       "      <td>16</td>\n",
       "      <td>3</td>\n",
       "      <td>0</td>\n",
       "      <td>0</td>\n",
       "    </tr>\n",
       "  </tbody>\n",
       "</table>\n",
       "</div>"
      ],
      "text/plain": [
       "                     email_share  lifetime_message  n_camp  n_messages  \\\n",
       "client_id                                                                \n",
       "1515915625468060902      1.00000               611     127         127   \n",
       "1515915625468061003      1.00000               635     154         154   \n",
       "1515915625468061099      0.65942               636     215         215   \n",
       "1515915625468061100      0.00000               638     265         268   \n",
       "1515915625468061170      0.68942               632     240         243   \n",
       "\n",
       "                     number_send  number_open  number_click  number_purchase  \\\n",
       "client_id                                                                      \n",
       "1515915625468060902          126           35            10                5   \n",
       "1515915625468061003          154            5             6                1   \n",
       "1515915625468061099          215           51             8                0   \n",
       "1515915625468061100          267          163             1                1   \n",
       "1515915625468061170          243           31            16                3   \n",
       "\n",
       "                     number_not_received  number_negative_exp  \n",
       "client_id                                                      \n",
       "1515915625468060902                    0                    1  \n",
       "1515915625468061003                    0                    0  \n",
       "1515915625468061099                    2                    0  \n",
       "1515915625468061100                    2                    0  \n",
       "1515915625468061170                    0                    0  "
      ]
     },
     "execution_count": 28,
     "metadata": {},
     "output_type": "execute_result"
    }
   ],
   "source": [
    "message_agg.head()"
   ]
  },
  {
   "cell_type": "markdown",
   "id": "e9218856-8588-4646-a115-448bf275f2a9",
   "metadata": {},
   "source": [
    "### Определение прошлой активности клиентов за последние 90 дней"
   ]
  },
  {
   "cell_type": "markdown",
   "id": "d05ab3c7-4322-4898-8b81-f154a3cd82b1",
   "metadata": {
    "execution": {
     "iopub.execute_input": "2024-08-31T20:46:50.036790Z",
     "iopub.status.busy": "2024-08-31T20:46:50.036533Z",
     "iopub.status.idle": "2024-08-31T20:46:50.053646Z",
     "shell.execute_reply": "2024-08-31T20:46:50.053212Z",
     "shell.execute_reply.started": "2024-08-31T20:46:50.036773Z"
    }
   },
   "source": [
    "Предположим, что максимальная дата, встречающаяся в наших наборах данных, равна дате выгрузке базы данных.  \n",
    "В таком случае, мы можем определить, был ли клиент активен - совершал ли какие-то покупки - и осуществлялась ли с ним какая-то коммуникаци в течение последних 90 дней  (период аналогичный целевому признаку).  \n"
   ]
  },
  {
   "cell_type": "code",
   "execution_count": 29,
   "id": "04193870-83d4-4819-bfc2-c1e41062a5b8",
   "metadata": {
    "execution": {
     "iopub.execute_input": "2024-09-01T17:20:19.668213Z",
     "iopub.status.busy": "2024-09-01T17:20:19.667943Z",
     "iopub.status.idle": "2024-09-01T17:20:19.797223Z",
     "shell.execute_reply": "2024-09-01T17:20:19.796650Z",
     "shell.execute_reply.started": "2024-09-01T17:20:19.668202Z"
    }
   },
   "outputs": [
    {
     "name": "stdout",
     "output_type": "stream",
     "text": [
      "2024-02-16 00:00:00\n"
     ]
    }
   ],
   "source": [
    "# Определеим максимальную дату \n",
    "max_date = max(purchase.date.max(),messages.date.max())\n",
    "print(max_date)"
   ]
  },
  {
   "cell_type": "code",
   "execution_count": 30,
   "id": "3e5c09b9-bb0a-4192-b25c-41683ac8cb09",
   "metadata": {
    "execution": {
     "iopub.execute_input": "2024-09-01T17:20:19.798048Z",
     "iopub.status.busy": "2024-09-01T17:20:19.797851Z",
     "iopub.status.idle": "2024-09-01T17:20:19.911670Z",
     "shell.execute_reply": "2024-09-01T17:20:19.911176Z",
     "shell.execute_reply.started": "2024-09-01T17:20:19.798037Z"
    }
   },
   "outputs": [],
   "source": [
    "latest_purch_activity_clients = purchase[purchase.date >= max_date - pd.Timedelta(90, unit=\"d\")].client_id.unique()"
   ]
  },
  {
   "cell_type": "code",
   "execution_count": 31,
   "id": "452432fd-2d07-4ff5-976c-8a16cf95cd59",
   "metadata": {
    "execution": {
     "iopub.execute_input": "2024-09-01T17:20:19.912466Z",
     "iopub.status.busy": "2024-09-01T17:20:19.912296Z",
     "iopub.status.idle": "2024-09-01T17:20:20.316247Z",
     "shell.execute_reply": "2024-09-01T17:20:20.315718Z",
     "shell.execute_reply.started": "2024-09-01T17:20:19.912456Z"
    }
   },
   "outputs": [],
   "source": [
    "latest_communication_clients = messages[(messages.date >= max_date - pd.Timedelta(90, unit=\"d\"))].client_id.unique()"
   ]
  },
  {
   "cell_type": "markdown",
   "id": "7043286b-7e6e-45cb-89ca-3f25db0a5790",
   "metadata": {
    "execution": {
     "iopub.execute_input": "2024-08-29T13:43:16.591404Z",
     "iopub.status.busy": "2024-08-29T13:43:16.590623Z",
     "iopub.status.idle": "2024-08-29T13:43:16.594444Z",
     "shell.execute_reply": "2024-08-29T13:43:16.593943Z",
     "shell.execute_reply.started": "2024-08-29T13:43:16.591387Z"
    }
   },
   "source": [
    "## Подготовка призанков модели"
   ]
  },
  {
   "cell_type": "markdown",
   "id": "1b6d3dbc-4e38-45db-848d-760394a0d90c",
   "metadata": {},
   "source": [
    "Соберем вместе все имеющиеся данные на клиентском уровне"
   ]
  },
  {
   "cell_type": "code",
   "execution_count": 32,
   "id": "9eec59c2-a9ae-485f-ae96-20f732b32aaf",
   "metadata": {
    "execution": {
     "iopub.execute_input": "2024-09-01T17:20:20.317069Z",
     "iopub.status.busy": "2024-09-01T17:20:20.316879Z",
     "iopub.status.idle": "2024-09-01T17:20:20.334684Z",
     "shell.execute_reply": "2024-09-01T17:20:20.334176Z",
     "shell.execute_reply.started": "2024-09-01T17:20:20.317058Z"
    }
   },
   "outputs": [
    {
     "name": "stdout",
     "output_type": "stream",
     "text": [
      "<class 'pandas.core.frame.DataFrame'>\n",
      "Int64Index: 49849 entries, 1515915625468060902 to 1515915626010443624\n",
      "Data columns (total 15 columns):\n",
      " #   Column               Non-Null Count  Dtype  \n",
      "---  ------               --------------  -----  \n",
      " 0   target               49849 non-null  int64  \n",
      " 1   lifetime_purchase    49849 non-null  int64  \n",
      " 2   purch_count          49849 non-null  int64  \n",
      " 3   fav_category         49849 non-null  object \n",
      " 4   averag_bill          49849 non-null  float64\n",
      " 5   email_share          41982 non-null  float64\n",
      " 6   lifetime_message     41982 non-null  float64\n",
      " 7   n_camp               41982 non-null  float64\n",
      " 8   n_messages           41982 non-null  float64\n",
      " 9   number_send          41982 non-null  float64\n",
      " 10  number_open          41982 non-null  float64\n",
      " 11  number_click         41982 non-null  float64\n",
      " 12  number_purchase      41982 non-null  float64\n",
      " 13  number_not_received  41982 non-null  float64\n",
      " 14  number_negative_exp  41982 non-null  float64\n",
      "dtypes: float64(11), int64(3), object(1)\n",
      "memory usage: 7.1+ MB\n"
     ]
    }
   ],
   "source": [
    "(target.set_index('client_id')).join(purch_agg,how='left').join(message_agg, how='left').info()"
   ]
  },
  {
   "cell_type": "markdown",
   "id": "697895a0-ab54-4064-a436-c5c7501bb475",
   "metadata": {},
   "source": [
    "Сразу заметим, что для порядка 8 тысяч клиентов отсутствуют записи в таблице с маркетинговыми сообщениями. Так как сообщения это основной инстурмент влияния компании на клиента, нам необходима информация о них.  \n",
    "Для построения модели будем использовать данные только таких клиентов, о которых есть информация также в messages."
   ]
  },
  {
   "cell_type": "code",
   "execution_count": 33,
   "id": "b12300cf-d487-4522-8adb-c0750ecbccae",
   "metadata": {
    "execution": {
     "iopub.execute_input": "2024-09-01T17:20:20.335432Z",
     "iopub.status.busy": "2024-09-01T17:20:20.335263Z",
     "iopub.status.idle": "2024-09-01T17:20:20.442310Z",
     "shell.execute_reply": "2024-09-01T17:20:20.441806Z",
     "shell.execute_reply.started": "2024-09-01T17:20:20.335421Z"
    }
   },
   "outputs": [],
   "source": [
    "# Пересоберем набор данных используя другой тип джойна чтобы оставить только наблюдения с полным набором данных\n",
    "df = target.set_index('client_id').join(purch_agg,how='left').join(message_agg, how='inner')"
   ]
  },
  {
   "cell_type": "code",
   "execution_count": 34,
   "id": "b94120a3-f1a9-4b5c-bf03-7bc5fa209906",
   "metadata": {
    "execution": {
     "iopub.execute_input": "2024-09-01T17:20:20.443122Z",
     "iopub.status.busy": "2024-09-01T17:20:20.442954Z",
     "iopub.status.idle": "2024-09-01T17:20:20.553144Z",
     "shell.execute_reply": "2024-09-01T17:20:20.552706Z",
     "shell.execute_reply.started": "2024-09-01T17:20:20.443111Z"
    }
   },
   "outputs": [
    {
     "data": {
      "text/plain": [
       "0    41136\n",
       "1      846\n",
       "Name: target, dtype: int64"
      ]
     },
     "execution_count": 34,
     "metadata": {},
     "output_type": "execute_result"
    }
   ],
   "source": [
    "df.target.value_counts()"
   ]
  },
  {
   "cell_type": "markdown",
   "id": "86422878-49c6-40b8-84f3-e9a92f502975",
   "metadata": {},
   "source": [
    "Мы вынуждено лишились порядка 20% выборки, однако большая часть удаленных записей принадлежит клиентам с классом 0, что некритично для нашей ситуации, когда мы имеем крайне несбалансированные классы (с доминированием класса 0).\n",
    "\n",
    "Добавим новые признаки, обозначающие, совершал ли клиент покупку или была ли проведена маркетинговая коммуникация за последние 90 дней."
   ]
  },
  {
   "cell_type": "code",
   "execution_count": 35,
   "id": "b66cc3c5-03da-497f-8e50-18b36e6f72b3",
   "metadata": {
    "execution": {
     "iopub.execute_input": "2024-09-01T17:20:20.553913Z",
     "iopub.status.busy": "2024-09-01T17:20:20.553744Z",
     "iopub.status.idle": "2024-09-01T17:20:20.674828Z",
     "shell.execute_reply": "2024-09-01T17:20:20.674335Z",
     "shell.execute_reply.started": "2024-09-01T17:20:20.553902Z"
    }
   },
   "outputs": [],
   "source": [
    "df['recent_buy'] = np.where(df.index.isin(latest_purch_activity_clients), 1, 0)\n",
    "df['recent_communication'] = np.where(df.index.isin(latest_communication_clients), 1, 0)"
   ]
  },
  {
   "cell_type": "markdown",
   "id": "7215b084-03cb-4240-b34c-2381570660d9",
   "metadata": {},
   "source": [
    "Вынесем категории с небольшим количеством наблюдений (менее 1000) в отдельную категорию:"
   ]
  },
  {
   "cell_type": "code",
   "execution_count": 36,
   "id": "cf3d8de9-1e42-41fa-9931-e68523af4374",
   "metadata": {
    "execution": {
     "iopub.execute_input": "2024-09-01T17:20:20.675625Z",
     "iopub.status.busy": "2024-09-01T17:20:20.675456Z",
     "iopub.status.idle": "2024-09-01T17:20:20.805405Z",
     "shell.execute_reply": "2024-09-01T17:20:20.804970Z",
     "shell.execute_reply.started": "2024-09-01T17:20:20.675615Z"
    }
   },
   "outputs": [
    {
     "data": {
      "text/plain": [
       "42    23171\n",
       "55     8088\n",
       "21     7103\n",
       "43     1702\n",
       "60      880\n",
       "41      501\n",
       "59      241\n",
       "44      150\n",
       "45      144\n",
       "31        1\n",
       "12        1\n",
       "Name: fav_category, dtype: int64"
      ]
     },
     "execution_count": 36,
     "metadata": {},
     "output_type": "execute_result"
    }
   ],
   "source": [
    "df.fav_category.value_counts()"
   ]
  },
  {
   "cell_type": "code",
   "execution_count": 37,
   "id": "dd5c3f9d-ca30-46e3-8e19-c45c38d39ed3",
   "metadata": {
    "execution": {
     "iopub.execute_input": "2024-09-01T17:20:20.806130Z",
     "iopub.status.busy": "2024-09-01T17:20:20.806009Z",
     "iopub.status.idle": "2024-09-01T17:20:20.929851Z",
     "shell.execute_reply": "2024-09-01T17:20:20.929424Z",
     "shell.execute_reply.started": "2024-09-01T17:20:20.806120Z"
    }
   },
   "outputs": [
    {
     "data": {
      "text/plain": [
       "42       23171\n",
       "55        8088\n",
       "21        7103\n",
       "other     1918\n",
       "43        1702\n",
       "Name: fav_category, dtype: int64"
      ]
     },
     "execution_count": 37,
     "metadata": {},
     "output_type": "execute_result"
    }
   ],
   "source": [
    "df.fav_category = np.where(df.fav_category.isin(['45', '60', '41', '44', '59', '31', '12']), 'other', df.fav_category)\n",
    "df.fav_category.value_counts()"
   ]
  },
  {
   "cell_type": "markdown",
   "id": "176d193c-e2e2-410e-b577-fe22f9dbdceb",
   "metadata": {},
   "source": [
    "Рассмотрим матрицу корреляций имеющихся на данный момент признаков."
   ]
  },
  {
   "cell_type": "code",
   "execution_count": 38,
   "id": "5013ffe3-242d-4680-a8e8-367de221ab21",
   "metadata": {
    "execution": {
     "iopub.execute_input": "2024-09-01T17:20:20.930566Z",
     "iopub.status.busy": "2024-09-01T17:20:20.930445Z",
     "iopub.status.idle": "2024-09-01T17:20:23.465851Z",
     "shell.execute_reply": "2024-09-01T17:20:23.465377Z",
     "shell.execute_reply.started": "2024-09-01T17:20:20.930556Z"
    }
   },
   "outputs": [
    {
     "data": {
      "image/png": "[encoded data removed]",
      "text/plain": [
       "<Figure size 1000x600 with 2 Axes>"
      ]
     },
     "metadata": {},
     "output_type": "display_data"
    }
   ],
   "source": [
    "phik = df\n",
    "\n",
    "plt.figure(figsize = (10,6))\n",
    "\n",
    "\n",
    "sns.heatmap(phik.phik_matrix(interval_cols=['target', 'lifetime_purchase', 'purch_count',\n",
    "       'averag_bill', 'email_share', 'lifetime_message',\n",
    "       'n_camp', 'number_send','number_received','n_messages',  'number_open', 'number_click',\n",
    "       'number_purchase',  'number_negative_exp','recent_buy','recent_communication'\n",
    "        ]),\n",
    "            annot = True,cmap='coolwarm')\n",
    "plt.title('Матрица корреляций')\n",
    "\n",
    "plt.tight_layout()\n",
    "plt.show()"
   ]
  },
  {
   "cell_type": "markdown",
   "id": "45ff306e-badd-4619-8652-b9a258e44c00",
   "metadata": {},
   "source": [
    "Заметим, что между переменными n_camp, n_messages, number_send ниблюдается сильная корреляция. Для избежания мультиколлинеарности удалим переменные n_camp, number_send.  \n",
    "Кроме того, сильная кеорреляция между переменными purch_count и number_purchase - удалим number_purchase.  \n",
    "\n",
    "Кроме этого, удалим переменные, которые имеют крайне низкую корреляцию с целевой переменной: number_not_receive, average_bill, number_negative_exp, fav_category,lifetime_message."
   ]
  },
  {
   "cell_type": "code",
   "execution_count": 39,
   "id": "1d1f939d-6e0d-4c6c-a119-e465ee708216",
   "metadata": {
    "execution": {
     "iopub.execute_input": "2024-09-01T17:20:23.466701Z",
     "iopub.status.busy": "2024-09-01T17:20:23.466569Z",
     "iopub.status.idle": "2024-09-01T17:20:23.470434Z",
     "shell.execute_reply": "2024-09-01T17:20:23.470069Z",
     "shell.execute_reply.started": "2024-09-01T17:20:23.466688Z"
    }
   },
   "outputs": [],
   "source": [
    "df = df.drop(['number_send','n_camp','number_negative_exp', 'averag_bill','number_not_received', 'number_purchase','fav_category','lifetime_message'],axis=1) "
   ]
  },
  {
   "cell_type": "code",
   "execution_count": 40,
   "id": "f2571333-2af0-42ff-a0d0-89bc18109704",
   "metadata": {
    "execution": {
     "iopub.execute_input": "2024-09-01T17:20:23.471049Z",
     "iopub.status.busy": "2024-09-01T17:20:23.470924Z",
     "iopub.status.idle": "2024-09-01T17:20:23.627841Z",
     "shell.execute_reply": "2024-09-01T17:20:23.627423Z",
     "shell.execute_reply.started": "2024-09-01T17:20:23.471040Z"
    }
   },
   "outputs": [
    {
     "data": {
      "text/html": [
       "<div>\n",
       "<style scoped>\n",
       "    .dataframe tbody tr th:only-of-type {\n",
       "        vertical-align: middle;\n",
       "    }\n",
       "\n",
       "    .dataframe tbody tr th {\n",
       "        vertical-align: top;\n",
       "    }\n",
       "\n",
       "    .dataframe thead th {\n",
       "        text-align: right;\n",
       "    }\n",
       "</style>\n",
       "<table border=\"1\" class=\"dataframe\">\n",
       "  <thead>\n",
       "    <tr style=\"text-align: right;\">\n",
       "      <th></th>\n",
       "      <th>target</th>\n",
       "      <th>lifetime_purchase</th>\n",
       "      <th>purch_count</th>\n",
       "      <th>email_share</th>\n",
       "      <th>n_messages</th>\n",
       "      <th>number_open</th>\n",
       "      <th>number_click</th>\n",
       "      <th>recent_buy</th>\n",
       "      <th>recent_communication</th>\n",
       "    </tr>\n",
       "  </thead>\n",
       "  <tbody>\n",
       "    <tr>\n",
       "      <th>count</th>\n",
       "      <td>41982.000000</td>\n",
       "      <td>41982.000000</td>\n",
       "      <td>41982.000000</td>\n",
       "      <td>41982.000000</td>\n",
       "      <td>41982.000000</td>\n",
       "      <td>41982.000000</td>\n",
       "      <td>41982.000000</td>\n",
       "      <td>41982.000000</td>\n",
       "      <td>41982.000000</td>\n",
       "    </tr>\n",
       "    <tr>\n",
       "      <th>mean</th>\n",
       "      <td>0.020151</td>\n",
       "      <td>23.767781</td>\n",
       "      <td>3.962055</td>\n",
       "      <td>0.497012</td>\n",
       "      <td>188.226478</td>\n",
       "      <td>59.774284</td>\n",
       "      <td>10.852318</td>\n",
       "      <td>0.108666</td>\n",
       "      <td>0.896551</td>\n",
       "    </tr>\n",
       "    <tr>\n",
       "      <th>std</th>\n",
       "      <td>0.140520</td>\n",
       "      <td>80.378258</td>\n",
       "      <td>5.304322</td>\n",
       "      <td>0.395789</td>\n",
       "      <td>104.672625</td>\n",
       "      <td>74.922798</td>\n",
       "      <td>14.164661</td>\n",
       "      <td>0.311223</td>\n",
       "      <td>0.304548</td>\n",
       "    </tr>\n",
       "    <tr>\n",
       "      <th>min</th>\n",
       "      <td>0.000000</td>\n",
       "      <td>1.000000</td>\n",
       "      <td>1.000000</td>\n",
       "      <td>0.000000</td>\n",
       "      <td>1.000000</td>\n",
       "      <td>0.000000</td>\n",
       "      <td>0.000000</td>\n",
       "      <td>0.000000</td>\n",
       "      <td>0.000000</td>\n",
       "    </tr>\n",
       "    <tr>\n",
       "      <th>25%</th>\n",
       "      <td>0.000000</td>\n",
       "      <td>1.000000</td>\n",
       "      <td>1.000000</td>\n",
       "      <td>0.060406</td>\n",
       "      <td>115.000000</td>\n",
       "      <td>4.000000</td>\n",
       "      <td>3.000000</td>\n",
       "      <td>0.000000</td>\n",
       "      <td>1.000000</td>\n",
       "    </tr>\n",
       "    <tr>\n",
       "      <th>50%</th>\n",
       "      <td>0.000000</td>\n",
       "      <td>1.000000</td>\n",
       "      <td>2.000000</td>\n",
       "      <td>0.448237</td>\n",
       "      <td>175.000000</td>\n",
       "      <td>26.000000</td>\n",
       "      <td>6.000000</td>\n",
       "      <td>0.000000</td>\n",
       "      <td>1.000000</td>\n",
       "    </tr>\n",
       "    <tr>\n",
       "      <th>75%</th>\n",
       "      <td>0.000000</td>\n",
       "      <td>1.000000</td>\n",
       "      <td>4.000000</td>\n",
       "      <td>1.000000</td>\n",
       "      <td>260.000000</td>\n",
       "      <td>94.000000</td>\n",
       "      <td>14.000000</td>\n",
       "      <td>0.000000</td>\n",
       "      <td>1.000000</td>\n",
       "    </tr>\n",
       "    <tr>\n",
       "      <th>max</th>\n",
       "      <td>1.000000</td>\n",
       "      <td>637.000000</td>\n",
       "      <td>218.000000</td>\n",
       "      <td>1.000000</td>\n",
       "      <td>2473.000000</td>\n",
       "      <td>1270.000000</td>\n",
       "      <td>384.000000</td>\n",
       "      <td>1.000000</td>\n",
       "      <td>1.000000</td>\n",
       "    </tr>\n",
       "  </tbody>\n",
       "</table>\n",
       "</div>"
      ],
      "text/plain": [
       "             target  lifetime_purchase   purch_count   email_share  \\\n",
       "count  41982.000000       41982.000000  41982.000000  41982.000000   \n",
       "mean       0.020151          23.767781      3.962055      0.497012   \n",
       "std        0.140520          80.378258      5.304322      0.395789   \n",
       "min        0.000000           1.000000      1.000000      0.000000   \n",
       "25%        0.000000           1.000000      1.000000      0.060406   \n",
       "50%        0.000000           1.000000      2.000000      0.448237   \n",
       "75%        0.000000           1.000000      4.000000      1.000000   \n",
       "max        1.000000         637.000000    218.000000      1.000000   \n",
       "\n",
       "         n_messages   number_open  number_click    recent_buy  \\\n",
       "count  41982.000000  41982.000000  41982.000000  41982.000000   \n",
       "mean     188.226478     59.774284     10.852318      0.108666   \n",
       "std      104.672625     74.922798     14.164661      0.311223   \n",
       "min        1.000000      0.000000      0.000000      0.000000   \n",
       "25%      115.000000      4.000000      3.000000      0.000000   \n",
       "50%      175.000000     26.000000      6.000000      0.000000   \n",
       "75%      260.000000     94.000000     14.000000      0.000000   \n",
       "max     2473.000000   1270.000000    384.000000      1.000000   \n",
       "\n",
       "       recent_communication  \n",
       "count          41982.000000  \n",
       "mean               0.896551  \n",
       "std                0.304548  \n",
       "min                0.000000  \n",
       "25%                1.000000  \n",
       "50%                1.000000  \n",
       "75%                1.000000  \n",
       "max                1.000000  "
      ]
     },
     "execution_count": 40,
     "metadata": {},
     "output_type": "execute_result"
    }
   ],
   "source": [
    "df.describe()"
   ]
  },
  {
   "cell_type": "markdown",
   "id": "71742791-0244-47f9-9097-ce42f374d233",
   "metadata": {
    "execution": {
     "iopub.status.busy": "2024-09-01T15:55:23.731944Z",
     "iopub.status.idle": "2024-09-01T15:55:23.732080Z",
     "shell.execute_reply": "2024-09-01T15:55:23.732021Z",
     "shell.execute_reply.started": "2024-09-01T15:55:23.732016Z"
    }
   },
   "source": [
    "Заметим, что максимумы в переменных lifetime_purchase, purch_count,n_messages, number_open, number_click максимальные значения сильно отличаются от средних и 75% персентилей, взглянем на распределения подробнее."
   ]
  },
  {
   "cell_type": "markdown",
   "id": "549f4c36-0297-4e65-a809-54948d0e5fa5",
   "metadata": {
    "execution": {
     "iopub.execute_input": "2024-09-01T15:13:59.970184Z",
     "iopub.status.busy": "2024-09-01T15:13:59.969863Z",
     "iopub.status.idle": "2024-09-01T15:13:59.993405Z",
     "shell.execute_reply": "2024-09-01T15:13:59.992902Z",
     "shell.execute_reply.started": "2024-09-01T15:13:59.970170Z"
    }
   },
   "source": [
    "Рассмотирм матрицу коллеряций еще раз:"
   ]
  },
  {
   "cell_type": "code",
   "execution_count": 41,
   "id": "35348782-63bf-4ef2-96fc-c452d60efa95",
   "metadata": {
    "execution": {
     "iopub.execute_input": "2024-09-01T17:20:23.628667Z",
     "iopub.status.busy": "2024-09-01T17:20:23.628437Z",
     "iopub.status.idle": "2024-09-01T17:20:24.121921Z",
     "shell.execute_reply": "2024-09-01T17:20:24.121485Z",
     "shell.execute_reply.started": "2024-09-01T17:20:23.628656Z"
    }
   },
   "outputs": [
    {
     "data": {
      "image/png": "[encoded data removed]",
      "text/plain": [
       "<Figure size 1000x600 with 2 Axes>"
      ]
     },
     "metadata": {},
     "output_type": "display_data"
    }
   ],
   "source": [
    "phik = df\n",
    "\n",
    "plt.figure(figsize = (10,6))\n",
    "\n",
    "\n",
    "sns.heatmap(phik.phik_matrix(interval_cols=['target', 'lifetime_purchase', 'purch_count',\n",
    "       'email_share', 'lifetime_message',\n",
    "       'averag_bill','n_messages',  'number_open', 'number_click',\n",
    "       'recent_buy','recent_communication','number_negative_exp'\n",
    "        ]),\n",
    "            annot = True,cmap='coolwarm')\n",
    "plt.title('Матрица корреляций')\n",
    "\n",
    "plt.tight_layout()\n",
    "plt.show()"
   ]
  },
  {
   "cell_type": "markdown",
   "id": "5cc178c0-08a6-49d7-8da6-76aacd449e00",
   "metadata": {},
   "source": [
    "Корреляционная таблица показывает отсутствие проблем (мультиколлинеарности). Корреляция с целевым признаком не велика, дальше необходимо перейти к построению модели машинного обучения."
   ]
  },
  {
   "cell_type": "markdown",
   "id": "c899dd7f-65dd-44fb-a82d-bdbed47cdd23",
   "metadata": {},
   "source": [
    "## Построение модели классификации клиентов"
   ]
  },
  {
   "cell_type": "markdown",
   "id": "e204d082-0e00-48ee-95bc-efebb827a9c0",
   "metadata": {},
   "source": [
    "### Обучение оптимальной модели"
   ]
  },
  {
   "cell_type": "markdown",
   "id": "fb5a1c9b-5ed5-4d3e-8274-5a935fbe3d9a",
   "metadata": {},
   "source": [
    "Для построения модели классификации будем использовать пайплайн для подбора оптимальных гиперпараметрво модели."
   ]
  },
  {
   "cell_type": "code",
   "execution_count": 42,
   "id": "0d3803af-b7bb-4861-acdf-f6c1b4713b83",
   "metadata": {
    "execution": {
     "iopub.execute_input": "2024-09-01T17:20:24.122672Z",
     "iopub.status.busy": "2024-09-01T17:20:24.122548Z",
     "iopub.status.idle": "2024-09-01T17:20:24.125066Z",
     "shell.execute_reply": "2024-09-01T17:20:24.124701Z",
     "shell.execute_reply.started": "2024-09-01T17:20:24.122662Z"
    }
   },
   "outputs": [],
   "source": [
    "num_columns = ['lifetime_purchase', 'purch_count','email_share',\n",
    "               'n_messages','number_open', 'number_click', 'recent_buy', 'recent_communication']"
   ]
  },
  {
   "cell_type": "code",
   "execution_count": 43,
   "id": "a8923bbe-f067-4387-a247-5dd93a857713",
   "metadata": {
    "execution": {
     "iopub.execute_input": "2024-09-01T17:20:24.125862Z",
     "iopub.status.busy": "2024-09-01T17:20:24.125555Z",
     "iopub.status.idle": "2024-09-01T17:20:24.296799Z",
     "shell.execute_reply": "2024-09-01T17:20:24.296307Z",
     "shell.execute_reply.started": "2024-09-01T17:20:24.125851Z"
    }
   },
   "outputs": [],
   "source": [
    "data_preprocessor = ColumnTransformer(\n",
    "    transformers= [\n",
    "       ('num', StandardScaler(), num_columns)\n",
    "    ], \n",
    "    remainder='passthrough'\n",
    ") "
   ]
  },
  {
   "cell_type": "code",
   "execution_count": 44,
   "id": "11bf9546-e5cd-4003-ad3f-e1b18e760e9d",
   "metadata": {
    "execution": {
     "iopub.execute_input": "2024-09-01T17:20:24.297701Z",
     "iopub.status.busy": "2024-09-01T17:20:24.297457Z",
     "iopub.status.idle": "2024-09-01T17:20:24.423619Z",
     "shell.execute_reply": "2024-09-01T17:20:24.423117Z",
     "shell.execute_reply.started": "2024-09-01T17:20:24.297689Z"
    }
   },
   "outputs": [],
   "source": [
    "RANDOM_STATE = 142\n",
    "\n",
    "pipe_final = Pipeline(\n",
    "    [\n",
    "        ('preprocessor', data_preprocessor),\n",
    "        ('models', LogisticRegression(random_state=RANDOM_STATE))\n",
    "    ]\n",
    ")"
   ]
  },
  {
   "cell_type": "code",
   "execution_count": 45,
   "id": "d4b1962a-6068-42c3-a972-451cfc885dbd",
   "metadata": {
    "execution": {
     "iopub.execute_input": "2024-09-01T17:20:24.424513Z",
     "iopub.status.busy": "2024-09-01T17:20:24.424269Z",
     "iopub.status.idle": "2024-09-01T17:20:24.561083Z",
     "shell.execute_reply": "2024-09-01T17:20:24.560598Z",
     "shell.execute_reply.started": "2024-09-01T17:20:24.424501Z"
    }
   },
   "outputs": [],
   "source": [
    "param_distributions = [\n",
    "    {\n",
    "        'models': [LogisticRegression(random_state=RANDOM_STATE, solver = 'saga',penalty = 'elasticnet', max_iter = 100, class_weight = 'balanced')],\n",
    "        'models__class_weight':['balanced'],\n",
    "        'models__l1_ratio':[0,0.25,0.5,0.75,1],      \n",
    "        'models__C':np.linspace(0.1,10,10),\n",
    "        'preprocessor__num': [StandardScaler()]  \n",
    "    },\n",
    "\n",
    "    {\n",
    "        'models': [CatBoostClassifier(auto_class_weights = 'Balanced',verbose=0,random_state=RANDOM_STATE)],\n",
    "        'models__n_estimators': range(25, 40),\n",
    "        'models__depth': range(4, 10),\n",
    "        'models__learning_rate':[0.05,0.1,0.2],\n",
    "        'preprocessor__num': ['passthrough']  \n",
    "    }\n",
    "] "
   ]
  },
  {
   "cell_type": "code",
   "execution_count": 46,
   "id": "e9c76261-5781-482d-a727-2c1b4fd1e0b3",
   "metadata": {
    "execution": {
     "iopub.execute_input": "2024-09-01T17:20:24.562091Z",
     "iopub.status.busy": "2024-09-01T17:20:24.561719Z",
     "iopub.status.idle": "2024-09-01T17:23:20.528008Z",
     "shell.execute_reply": "2024-09-01T17:23:20.527531Z",
     "shell.execute_reply.started": "2024-09-01T17:20:24.562080Z"
    }
   },
   "outputs": [
    {
     "name": "stdout",
     "output_type": "stream",
     "text": [
      "Fitting 5 folds for each of 320 candidates, totalling 1600 fits\n",
      "CPU times: user 2.81 s, sys: 931 ms, total: 3.74 s\n",
      "Wall time: 2min 55s\n"
     ]
    },
    {
     "data": {
      "text/html": [
       "<style>#sk-container-id-1 {\n",
       "  /* Definition of color scheme common for light and dark mode */\n",
       "  --sklearn-color-text: black;\n",
       "  --sklearn-color-line: gray;\n",
       "  /* Definition of color scheme for unfitted estimators */\n",
       "  --sklearn-color-unfitted-level-0: #fff5e6;\n",
       "  --sklearn-color-unfitted-level-1: #f6e4d2;\n",
       "  --sklearn-color-unfitted-level-2: #ffe0b3;\n",
       "  --sklearn-color-unfitted-level-3: chocolate;\n",
       "  /* Definition of color scheme for fitted estimators */\n",
       "  --sklearn-color-fitted-level-0: #f0f8ff;\n",
       "  --sklearn-color-fitted-level-1: #d4ebff;\n",
       "  --sklearn-color-fitted-level-2: #b3dbfd;\n",
       "  --sklearn-color-fitted-level-3: cornflowerblue;\n",
       "\n",
       "  /* Specific color for light theme */\n",
       "  --sklearn-color-text-on-default-background: var(--sg-text-color, var(--theme-code-foreground, var(--jp-content-font-color1, black)));\n",
       "  --sklearn-color-background: var(--sg-background-color, var(--theme-background, var(--jp-layout-color0, white)));\n",
       "  --sklearn-color-border-box: var(--sg-text-color, var(--theme-code-foreground, var(--jp-content-font-color1, black)));\n",
       "  --sklearn-color-icon: #696969;\n",
       "\n",
       "  @media (prefers-color-scheme: dark) {\n",
       "    /* Redefinition of color scheme for dark theme */\n",
       "    --sklearn-color-text-on-default-background: var(--sg-text-color, var(--theme-code-foreground, var(--jp-content-font-color1, white)));\n",
       "    --sklearn-color-background: var(--sg-background-color, var(--theme-background, var(--jp-layout-color0, #111)));\n",
       "    --sklearn-color-border-box: var(--sg-text-color, var(--theme-code-foreground, var(--jp-content-font-color1, white)));\n",
       "    --sklearn-color-icon: #878787;\n",
       "  }\n",
       "}\n",
       "\n",
       "#sk-container-id-1 {\n",
       "  color: var(--sklearn-color-text);\n",
       "}\n",
       "\n",
       "#sk-container-id-1 pre {\n",
       "  padding: 0;\n",
       "}\n",
       "\n",
       "#sk-container-id-1 input.sk-hidden--visually {\n",
       "  border: 0;\n",
       "  clip: rect(1px 1px 1px 1px);\n",
       "  clip: rect(1px, 1px, 1px, 1px);\n",
       "  height: 1px;\n",
       "  margin: -1px;\n",
       "  overflow: hidden;\n",
       "  padding: 0;\n",
       "  position: absolute;\n",
       "  width: 1px;\n",
       "}\n",
       "\n",
       "#sk-container-id-1 div.sk-dashed-wrapped {\n",
       "  border: 1px dashed var(--sklearn-color-line);\n",
       "  margin: 0 0.4em 0.5em 0.4em;\n",
       "  box-sizing: border-box;\n",
       "  padding-bottom: 0.4em;\n",
       "  background-color: var(--sklearn-color-background);\n",
       "}\n",
       "\n",
       "#sk-container-id-1 div.sk-container {\n",
       "  /* jupyter's `normalize.less` sets `[hidden] { display: none; }`\n",
       "     but bootstrap.min.css set `[hidden] { display: none !important; }`\n",
       "     so we also need the `!important` here to be able to override the\n",
       "     default hidden behavior on the sphinx rendered scikit-learn.org.\n",
       "     See: https://github.com/scikit-learn/scikit-learn/issues/21755 */\n",
       "  display: inline-block !important;\n",
       "  position: relative;\n",
       "}\n",
       "\n",
       "#sk-container-id-1 div.sk-text-repr-fallback {\n",
       "  display: none;\n",
       "}\n",
       "\n",
       "div.sk-parallel-item,\n",
       "div.sk-serial,\n",
       "div.sk-item {\n",
       "  /* draw centered vertical line to link estimators */\n",
       "  background-image: linear-gradient(var(--sklearn-color-text-on-default-background), var(--sklearn-color-text-on-default-background));\n",
       "  background-size: 2px 100%;\n",
       "  background-repeat: no-repeat;\n",
       "  background-position: center center;\n",
       "}\n",
       "\n",
       "/* Parallel-specific style estimator block */\n",
       "\n",
       "#sk-container-id-1 div.sk-parallel-item::after {\n",
       "  content: \"\";\n",
       "  width: 100%;\n",
       "  border-bottom: 2px solid var(--sklearn-color-text-on-default-background);\n",
       "  flex-grow: 1;\n",
       "}\n",
       "\n",
       "#sk-container-id-1 div.sk-parallel {\n",
       "  display: flex;\n",
       "  align-items: stretch;\n",
       "  justify-content: center;\n",
       "  background-color: var(--sklearn-color-background);\n",
       "  position: relative;\n",
       "}\n",
       "\n",
       "#sk-container-id-1 div.sk-parallel-item {\n",
       "  display: flex;\n",
       "  flex-direction: column;\n",
       "}\n",
       "\n",
       "#sk-container-id-1 div.sk-parallel-item:first-child::after {\n",
       "  align-self: flex-end;\n",
       "  width: 50%;\n",
       "}\n",
       "\n",
       "#sk-container-id-1 div.sk-parallel-item:last-child::after {\n",
       "  align-self: flex-start;\n",
       "  width: 50%;\n",
       "}\n",
       "\n",
       "#sk-container-id-1 div.sk-parallel-item:only-child::after {\n",
       "  width: 0;\n",
       "}\n",
       "\n",
       "/* Serial-specific style estimator block */\n",
       "\n",
       "#sk-container-id-1 div.sk-serial {\n",
       "  display: flex;\n",
       "  flex-direction: column;\n",
       "  align-items: center;\n",
       "  background-color: var(--sklearn-color-background);\n",
       "  padding-right: 1em;\n",
       "  padding-left: 1em;\n",
       "}\n",
       "\n",
       "\n",
       "/* Toggleable style: style used for estimator/Pipeline/ColumnTransformer box that is\n",
       "clickable and can be expanded/collapsed.\n",
       "- Pipeline and ColumnTransformer use this feature and define the default style\n",
       "- Estimators will overwrite some part of the style using the `sk-estimator` class\n",
       "*/\n",
       "\n",
       "/* Pipeline and ColumnTransformer style (default) */\n",
       "\n",
       "#sk-container-id-1 div.sk-toggleable {\n",
       "  /* Default theme specific background. It is overwritten whether we have a\n",
       "  specific estimator or a Pipeline/ColumnTransformer */\n",
       "  background-color: var(--sklearn-color-background);\n",
       "}\n",
       "\n",
       "/* Toggleable label */\n",
       "#sk-container-id-1 label.sk-toggleable__label {\n",
       "  cursor: pointer;\n",
       "  display: block;\n",
       "  width: 100%;\n",
       "  margin-bottom: 0;\n",
       "  padding: 0.5em;\n",
       "  box-sizing: border-box;\n",
       "  text-align: center;\n",
       "}\n",
       "\n",
       "#sk-container-id-1 label.sk-toggleable__label-arrow:before {\n",
       "  /* Arrow on the left of the label */\n",
       "  content: \"▸\";\n",
       "  float: left;\n",
       "  margin-right: 0.25em;\n",
       "  color: var(--sklearn-color-icon);\n",
       "}\n",
       "\n",
       "#sk-container-id-1 label.sk-toggleable__label-arrow:hover:before {\n",
       "  color: var(--sklearn-color-text);\n",
       "}\n",
       "\n",
       "/* Toggleable content - dropdown */\n",
       "\n",
       "#sk-container-id-1 div.sk-toggleable__content {\n",
       "  max-height: 0;\n",
       "  max-width: 0;\n",
       "  overflow: hidden;\n",
       "  text-align: left;\n",
       "  /* unfitted */\n",
       "  background-color: var(--sklearn-color-unfitted-level-0);\n",
       "}\n",
       "\n",
       "#sk-container-id-1 div.sk-toggleable__content.fitted {\n",
       "  /* fitted */\n",
       "  background-color: var(--sklearn-color-fitted-level-0);\n",
       "}\n",
       "\n",
       "#sk-container-id-1 div.sk-toggleable__content pre {\n",
       "  margin: 0.2em;\n",
       "  border-radius: 0.25em;\n",
       "  color: var(--sklearn-color-text);\n",
       "  /* unfitted */\n",
       "  background-color: var(--sklearn-color-unfitted-level-0);\n",
       "}\n",
       "\n",
       "#sk-container-id-1 div.sk-toggleable__content.fitted pre {\n",
       "  /* unfitted */\n",
       "  background-color: var(--sklearn-color-fitted-level-0);\n",
       "}\n",
       "\n",
       "#sk-container-id-1 input.sk-toggleable__control:checked~div.sk-toggleable__content {\n",
       "  /* Expand drop-down */\n",
       "  max-height: 200px;\n",
       "  max-width: 100%;\n",
       "  overflow: auto;\n",
       "}\n",
       "\n",
       "#sk-container-id-1 input.sk-toggleable__control:checked~label.sk-toggleable__label-arrow:before {\n",
       "  content: \"▾\";\n",
       "}\n",
       "\n",
       "/* Pipeline/ColumnTransformer-specific style */\n",
       "\n",
       "#sk-container-id-1 div.sk-label input.sk-toggleable__control:checked~label.sk-toggleable__label {\n",
       "  color: var(--sklearn-color-text);\n",
       "  background-color: var(--sklearn-color-unfitted-level-2);\n",
       "}\n",
       "\n",
       "#sk-container-id-1 div.sk-label.fitted input.sk-toggleable__control:checked~label.sk-toggleable__label {\n",
       "  background-color: var(--sklearn-color-fitted-level-2);\n",
       "}\n",
       "\n",
       "/* Estimator-specific style */\n",
       "\n",
       "/* Colorize estimator box */\n",
       "#sk-container-id-1 div.sk-estimator input.sk-toggleable__control:checked~label.sk-toggleable__label {\n",
       "  /* unfitted */\n",
       "  background-color: var(--sklearn-color-unfitted-level-2);\n",
       "}\n",
       "\n",
       "#sk-container-id-1 div.sk-estimator.fitted input.sk-toggleable__control:checked~label.sk-toggleable__label {\n",
       "  /* fitted */\n",
       "  background-color: var(--sklearn-color-fitted-level-2);\n",
       "}\n",
       "\n",
       "#sk-container-id-1 div.sk-label label.sk-toggleable__label,\n",
       "#sk-container-id-1 div.sk-label label {\n",
       "  /* The background is the default theme color */\n",
       "  color: var(--sklearn-color-text-on-default-background);\n",
       "}\n",
       "\n",
       "/* On hover, darken the color of the background */\n",
       "#sk-container-id-1 div.sk-label:hover label.sk-toggleable__label {\n",
       "  color: var(--sklearn-color-text);\n",
       "  background-color: var(--sklearn-color-unfitted-level-2);\n",
       "}\n",
       "\n",
       "/* Label box, darken color on hover, fitted */\n",
       "#sk-container-id-1 div.sk-label.fitted:hover label.sk-toggleable__label.fitted {\n",
       "  color: var(--sklearn-color-text);\n",
       "  background-color: var(--sklearn-color-fitted-level-2);\n",
       "}\n",
       "\n",
       "/* Estimator label */\n",
       "\n",
       "#sk-container-id-1 div.sk-label label {\n",
       "  font-family: monospace;\n",
       "  font-weight: bold;\n",
       "  display: inline-block;\n",
       "  line-height: 1.2em;\n",
       "}\n",
       "\n",
       "#sk-container-id-1 div.sk-label-container {\n",
       "  text-align: center;\n",
       "}\n",
       "\n",
       "/* Estimator-specific */\n",
       "#sk-container-id-1 div.sk-estimator {\n",
       "  font-family: monospace;\n",
       "  border: 1px dotted var(--sklearn-color-border-box);\n",
       "  border-radius: 0.25em;\n",
       "  box-sizing: border-box;\n",
       "  margin-bottom: 0.5em;\n",
       "  /* unfitted */\n",
       "  background-color: var(--sklearn-color-unfitted-level-0);\n",
       "}\n",
       "\n",
       "#sk-container-id-1 div.sk-estimator.fitted {\n",
       "  /* fitted */\n",
       "  background-color: var(--sklearn-color-fitted-level-0);\n",
       "}\n",
       "\n",
       "/* on hover */\n",
       "#sk-container-id-1 div.sk-estimator:hover {\n",
       "  /* unfitted */\n",
       "  background-color: var(--sklearn-color-unfitted-level-2);\n",
       "}\n",
       "\n",
       "#sk-container-id-1 div.sk-estimator.fitted:hover {\n",
       "  /* fitted */\n",
       "  background-color: var(--sklearn-color-fitted-level-2);\n",
       "}\n",
       "\n",
       "/* Specification for estimator info (e.g. \"i\" and \"?\") */\n",
       "\n",
       "/* Common style for \"i\" and \"?\" */\n",
       "\n",
       ".sk-estimator-doc-link,\n",
       "a:link.sk-estimator-doc-link,\n",
       "a:visited.sk-estimator-doc-link {\n",
       "  float: right;\n",
       "  font-size: smaller;\n",
       "  line-height: 1em;\n",
       "  font-family: monospace;\n",
       "  background-color: var(--sklearn-color-background);\n",
       "  border-radius: 1em;\n",
       "  height: 1em;\n",
       "  width: 1em;\n",
       "  text-decoration: none !important;\n",
       "  margin-left: 1ex;\n",
       "  /* unfitted */\n",
       "  border: var(--sklearn-color-unfitted-level-1) 1pt solid;\n",
       "  color: var(--sklearn-color-unfitted-level-1);\n",
       "}\n",
       "\n",
       ".sk-estimator-doc-link.fitted,\n",
       "a:link.sk-estimator-doc-link.fitted,\n",
       "a:visited.sk-estimator-doc-link.fitted {\n",
       "  /* fitted */\n",
       "  border: var(--sklearn-color-fitted-level-1) 1pt solid;\n",
       "  color: var(--sklearn-color-fitted-level-1);\n",
       "}\n",
       "\n",
       "/* On hover */\n",
       "div.sk-estimator:hover .sk-estimator-doc-link:hover,\n",
       ".sk-estimator-doc-link:hover,\n",
       "div.sk-label-container:hover .sk-estimator-doc-link:hover,\n",
       ".sk-estimator-doc-link:hover {\n",
       "  /* unfitted */\n",
       "  background-color: var(--sklearn-color-unfitted-level-3);\n",
       "  color: var(--sklearn-color-background);\n",
       "  text-decoration: none;\n",
       "}\n",
       "\n",
       "div.sk-estimator.fitted:hover .sk-estimator-doc-link.fitted:hover,\n",
       ".sk-estimator-doc-link.fitted:hover,\n",
       "div.sk-label-container:hover .sk-estimator-doc-link.fitted:hover,\n",
       ".sk-estimator-doc-link.fitted:hover {\n",
       "  /* fitted */\n",
       "  background-color: var(--sklearn-color-fitted-level-3);\n",
       "  color: var(--sklearn-color-background);\n",
       "  text-decoration: none;\n",
       "}\n",
       "\n",
       "/* Span, style for the box shown on hovering the info icon */\n",
       ".sk-estimator-doc-link span {\n",
       "  display: none;\n",
       "  z-index: 9999;\n",
       "  position: relative;\n",
       "  font-weight: normal;\n",
       "  right: .2ex;\n",
       "  padding: .5ex;\n",
       "  margin: .5ex;\n",
       "  width: min-content;\n",
       "  min-width: 20ex;\n",
       "  max-width: 50ex;\n",
       "  color: var(--sklearn-color-text);\n",
       "  box-shadow: 2pt 2pt 4pt #999;\n",
       "  /* unfitted */\n",
       "  background: var(--sklearn-color-unfitted-level-0);\n",
       "  border: .5pt solid var(--sklearn-color-unfitted-level-3);\n",
       "}\n",
       "\n",
       ".sk-estimator-doc-link.fitted span {\n",
       "  /* fitted */\n",
       "  background: var(--sklearn-color-fitted-level-0);\n",
       "  border: var(--sklearn-color-fitted-level-3);\n",
       "}\n",
       "\n",
       ".sk-estimator-doc-link:hover span {\n",
       "  display: block;\n",
       "}\n",
       "\n",
       "/* \"?\"-specific style due to the `<a>` HTML tag */\n",
       "\n",
       "#sk-container-id-1 a.estimator_doc_link {\n",
       "  float: right;\n",
       "  font-size: 1rem;\n",
       "  line-height: 1em;\n",
       "  font-family: monospace;\n",
       "  background-color: var(--sklearn-color-background);\n",
       "  border-radius: 1rem;\n",
       "  height: 1rem;\n",
       "  width: 1rem;\n",
       "  text-decoration: none;\n",
       "  /* unfitted */\n",
       "  color: var(--sklearn-color-unfitted-level-1);\n",
       "  border: var(--sklearn-color-unfitted-level-1) 1pt solid;\n",
       "}\n",
       "\n",
       "#sk-container-id-1 a.estimator_doc_link.fitted {\n",
       "  /* fitted */\n",
       "  border: var(--sklearn-color-fitted-level-1) 1pt solid;\n",
       "  color: var(--sklearn-color-fitted-level-1);\n",
       "}\n",
       "\n",
       "/* On hover */\n",
       "#sk-container-id-1 a.estimator_doc_link:hover {\n",
       "  /* unfitted */\n",
       "  background-color: var(--sklearn-color-unfitted-level-3);\n",
       "  color: var(--sklearn-color-background);\n",
       "  text-decoration: none;\n",
       "}\n",
       "\n",
       "#sk-container-id-1 a.estimator_doc_link.fitted:hover {\n",
       "  /* fitted */\n",
       "  background-color: var(--sklearn-color-fitted-level-3);\n",
       "}\n",
       "</style><div id=\"sk-container-id-1\" class=\"sk-top-container\"><div class=\"sk-text-repr-fallback\"><pre>GridSearchCV(cv=StratifiedKFold(n_splits=5, random_state=142, shuffle=True),\n",
       "             estimator=Pipeline(steps=[(&#x27;preprocessor&#x27;,\n",
       "                                        ColumnTransformer(remainder=&#x27;passthrough&#x27;,\n",
       "                                                          transformers=[(&#x27;num&#x27;,\n",
       "                                                                         StandardScaler(),\n",
       "                                                                         [&#x27;lifetime_purchase&#x27;,\n",
       "                                                                          &#x27;purch_count&#x27;,\n",
       "                                                                          &#x27;email_share&#x27;,\n",
       "                                                                          &#x27;n_messages&#x27;,\n",
       "                                                                          &#x27;number_open&#x27;,\n",
       "                                                                          &#x27;number_click&#x27;,\n",
       "                                                                          &#x27;recent_buy&#x27;,\n",
       "                                                                          &#x27;recent_communication&#x27;])])),\n",
       "                                       (&#x27;models&#x27;,\n",
       "                                        LogisticRegr...\n",
       "                          &#x27;models__class_weight&#x27;: [&#x27;balanced&#x27;],\n",
       "                          &#x27;models__l1_ratio&#x27;: [0, 0.25, 0.5, 0.75, 1],\n",
       "                          &#x27;preprocessor__num&#x27;: [StandardScaler()]},\n",
       "                         {&#x27;models&#x27;: [&lt;catboost.core.CatBoostClassifier object at 0x7efec75f7160&gt;],\n",
       "                          &#x27;models__depth&#x27;: range(4, 10),\n",
       "                          &#x27;models__learning_rate&#x27;: [0.05, 0.1, 0.2],\n",
       "                          &#x27;models__n_estimators&#x27;: range(25, 40),\n",
       "                          &#x27;preprocessor__num&#x27;: [&#x27;passthrough&#x27;]}],\n",
       "             scoring=&#x27;roc_auc&#x27;, verbose=2)</pre><b>In a Jupyter environment, please rerun this cell to show the HTML representation or trust the notebook. <br />On GitHub, the HTML representation is unable to render, please try loading this page with nbviewer.org.</b></div><div class=\"sk-container\" hidden><div class=\"sk-item sk-dashed-wrapped\"><div class=\"sk-label-container\"><div class=\"sk-label fitted sk-toggleable\"><input class=\"sk-toggleable__control sk-hidden--visually\" id=\"sk-estimator-id-1\" type=\"checkbox\" ><label for=\"sk-estimator-id-1\" class=\"sk-toggleable__label fitted sk-toggleable__label-arrow fitted\">&nbsp;&nbsp;GridSearchCV<a class=\"sk-estimator-doc-link fitted\" rel=\"noreferrer\" target=\"_blank\" href=\"https://scikit-learn.org/1.5/modules/generated/sklearn.model_selection.GridSearchCV.html\">?<span>Documentation for GridSearchCV</span></a><span class=\"sk-estimator-doc-link fitted\">i<span>Fitted</span></span></label><div class=\"sk-toggleable__content fitted\"><pre>GridSearchCV(cv=StratifiedKFold(n_splits=5, random_state=142, shuffle=True),\n",
       "             estimator=Pipeline(steps=[(&#x27;preprocessor&#x27;,\n",
       "                                        ColumnTransformer(remainder=&#x27;passthrough&#x27;,\n",
       "                                                          transformers=[(&#x27;num&#x27;,\n",
       "                                                                         StandardScaler(),\n",
       "                                                                         [&#x27;lifetime_purchase&#x27;,\n",
       "                                                                          &#x27;purch_count&#x27;,\n",
       "                                                                          &#x27;email_share&#x27;,\n",
       "                                                                          &#x27;n_messages&#x27;,\n",
       "                                                                          &#x27;number_open&#x27;,\n",
       "                                                                          &#x27;number_click&#x27;,\n",
       "                                                                          &#x27;recent_buy&#x27;,\n",
       "                                                                          &#x27;recent_communication&#x27;])])),\n",
       "                                       (&#x27;models&#x27;,\n",
       "                                        LogisticRegr...\n",
       "                          &#x27;models__class_weight&#x27;: [&#x27;balanced&#x27;],\n",
       "                          &#x27;models__l1_ratio&#x27;: [0, 0.25, 0.5, 0.75, 1],\n",
       "                          &#x27;preprocessor__num&#x27;: [StandardScaler()]},\n",
       "                         {&#x27;models&#x27;: [&lt;catboost.core.CatBoostClassifier object at 0x7efec75f7160&gt;],\n",
       "                          &#x27;models__depth&#x27;: range(4, 10),\n",
       "                          &#x27;models__learning_rate&#x27;: [0.05, 0.1, 0.2],\n",
       "                          &#x27;models__n_estimators&#x27;: range(25, 40),\n",
       "                          &#x27;preprocessor__num&#x27;: [&#x27;passthrough&#x27;]}],\n",
       "             scoring=&#x27;roc_auc&#x27;, verbose=2)</pre></div> </div></div><div class=\"sk-parallel\"><div class=\"sk-parallel-item\"><div class=\"sk-item\"><div class=\"sk-label-container\"><div class=\"sk-label fitted sk-toggleable\"><input class=\"sk-toggleable__control sk-hidden--visually\" id=\"sk-estimator-id-2\" type=\"checkbox\" ><label for=\"sk-estimator-id-2\" class=\"sk-toggleable__label fitted sk-toggleable__label-arrow fitted\">best_estimator_: Pipeline</label><div class=\"sk-toggleable__content fitted\"><pre>Pipeline(steps=[(&#x27;preprocessor&#x27;,\n",
       "                 ColumnTransformer(remainder=&#x27;passthrough&#x27;,\n",
       "                                   transformers=[(&#x27;num&#x27;, &#x27;passthrough&#x27;,\n",
       "                                                  [&#x27;lifetime_purchase&#x27;,\n",
       "                                                   &#x27;purch_count&#x27;, &#x27;email_share&#x27;,\n",
       "                                                   &#x27;n_messages&#x27;, &#x27;number_open&#x27;,\n",
       "                                                   &#x27;number_click&#x27;, &#x27;recent_buy&#x27;,\n",
       "                                                   &#x27;recent_communication&#x27;])])),\n",
       "                (&#x27;models&#x27;,\n",
       "                 &lt;catboost.core.CatBoostClassifier object at 0x7efec7615270&gt;)])</pre></div> </div></div><div class=\"sk-serial\"><div class=\"sk-item\"><div class=\"sk-serial\"><div class=\"sk-item sk-dashed-wrapped\"><div class=\"sk-label-container\"><div class=\"sk-label fitted sk-toggleable\"><input class=\"sk-toggleable__control sk-hidden--visually\" id=\"sk-estimator-id-3\" type=\"checkbox\" ><label for=\"sk-estimator-id-3\" class=\"sk-toggleable__label fitted sk-toggleable__label-arrow fitted\">&nbsp;preprocessor: ColumnTransformer<a class=\"sk-estimator-doc-link fitted\" rel=\"noreferrer\" target=\"_blank\" href=\"https://scikit-learn.org/1.5/modules/generated/sklearn.compose.ColumnTransformer.html\">?<span>Documentation for preprocessor: ColumnTransformer</span></a></label><div class=\"sk-toggleable__content fitted\"><pre>ColumnTransformer(remainder=&#x27;passthrough&#x27;,\n",
       "                  transformers=[(&#x27;num&#x27;, &#x27;passthrough&#x27;,\n",
       "                                 [&#x27;lifetime_purchase&#x27;, &#x27;purch_count&#x27;,\n",
       "                                  &#x27;email_share&#x27;, &#x27;n_messages&#x27;, &#x27;number_open&#x27;,\n",
       "                                  &#x27;number_click&#x27;, &#x27;recent_buy&#x27;,\n",
       "                                  &#x27;recent_communication&#x27;])])</pre></div> </div></div><div class=\"sk-parallel\"><div class=\"sk-parallel-item\"><div class=\"sk-item\"><div class=\"sk-label-container\"><div class=\"sk-label fitted sk-toggleable\"><input class=\"sk-toggleable__control sk-hidden--visually\" id=\"sk-estimator-id-4\" type=\"checkbox\" ><label for=\"sk-estimator-id-4\" class=\"sk-toggleable__label fitted sk-toggleable__label-arrow fitted\">num</label><div class=\"sk-toggleable__content fitted\"><pre>[&#x27;lifetime_purchase&#x27;, &#x27;purch_count&#x27;, &#x27;email_share&#x27;, &#x27;n_messages&#x27;, &#x27;number_open&#x27;, &#x27;number_click&#x27;, &#x27;recent_buy&#x27;, &#x27;recent_communication&#x27;]</pre></div> </div></div><div class=\"sk-serial\"><div class=\"sk-item\"><div class=\"sk-estimator fitted sk-toggleable\"><input class=\"sk-toggleable__control sk-hidden--visually\" id=\"sk-estimator-id-5\" type=\"checkbox\" ><label for=\"sk-estimator-id-5\" class=\"sk-toggleable__label fitted sk-toggleable__label-arrow fitted\">passthrough</label><div class=\"sk-toggleable__content fitted\"><pre>passthrough</pre></div> </div></div></div></div></div><div class=\"sk-parallel-item\"><div class=\"sk-item\"><div class=\"sk-label-container\"><div class=\"sk-label fitted sk-toggleable\"><input class=\"sk-toggleable__control sk-hidden--visually\" id=\"sk-estimator-id-6\" type=\"checkbox\" ><label for=\"sk-estimator-id-6\" class=\"sk-toggleable__label fitted sk-toggleable__label-arrow fitted\">remainder</label><div class=\"sk-toggleable__content fitted\"><pre>[]</pre></div> </div></div><div class=\"sk-serial\"><div class=\"sk-item\"><div class=\"sk-estimator fitted sk-toggleable\"><input class=\"sk-toggleable__control sk-hidden--visually\" id=\"sk-estimator-id-7\" type=\"checkbox\" ><label for=\"sk-estimator-id-7\" class=\"sk-toggleable__label fitted sk-toggleable__label-arrow fitted\">passthrough</label><div class=\"sk-toggleable__content fitted\"><pre>passthrough</pre></div> </div></div></div></div></div></div></div><div class=\"sk-item\"><div class=\"sk-estimator fitted sk-toggleable\"><input class=\"sk-toggleable__control sk-hidden--visually\" id=\"sk-estimator-id-8\" type=\"checkbox\" ><label for=\"sk-estimator-id-8\" class=\"sk-toggleable__label fitted sk-toggleable__label-arrow fitted\">CatBoostClassifier</label><div class=\"sk-toggleable__content fitted\"><pre>&lt;catboost.core.CatBoostClassifier object at 0x7efec7615270&gt;</pre></div> </div></div></div></div></div></div></div></div></div></div></div>"
      ],
      "text/plain": [
       "GridSearchCV(cv=StratifiedKFold(n_splits=5, random_state=142, shuffle=True),\n",
       "             estimator=Pipeline(steps=[('preprocessor',\n",
       "                                        ColumnTransformer(remainder='passthrough',\n",
       "                                                          transformers=[('num',\n",
       "                                                                         StandardScaler(),\n",
       "                                                                         ['lifetime_purchase',\n",
       "                                                                          'purch_count',\n",
       "                                                                          'email_share',\n",
       "                                                                          'n_messages',\n",
       "                                                                          'number_open',\n",
       "                                                                          'number_click',\n",
       "                                                                          'recent_buy',\n",
       "                                                                          'recent_communication'])])),\n",
       "                                       ('models',\n",
       "                                        LogisticRegr...\n",
       "                          'models__class_weight': ['balanced'],\n",
       "                          'models__l1_ratio': [0, 0.25, 0.5, 0.75, 1],\n",
       "                          'preprocessor__num': [StandardScaler()]},\n",
       "                         {'models': [<catboost.core.CatBoostClassifier object at 0x7efec75f7160>],\n",
       "                          'models__depth': range(4, 10),\n",
       "                          'models__learning_rate': [0.05, 0.1, 0.2],\n",
       "                          'models__n_estimators': range(25, 40),\n",
       "                          'preprocessor__num': ['passthrough']}],\n",
       "             scoring='roc_auc', verbose=2)"
      ]
     },
     "execution_count": 46,
     "metadata": {},
     "output_type": "execute_result"
    }
   ],
   "source": [
    "%%time\n",
    "\n",
    "RANDOM_STATE = 142\n",
    "\n",
    "X_train, X_test, y_train, y_test = train_test_split(\n",
    "    df.drop(['target'],axis=1),\n",
    "    df['target'],\n",
    "    test_size = 0.2,\n",
    "    stratify=phik['target'],\n",
    "    random_state = RANDOM_STATE)\n",
    "\n",
    "\n",
    "# Зададим отдельынй вид кросс-валидации\n",
    "cv = StratifiedKFold(n_splits=5, shuffle=True, random_state=RANDOM_STATE)\n",
    "\n",
    "grid_search = GridSearchCV(\n",
    "    pipe_final, \n",
    "    param_grid=param_distributions, \n",
    "    scoring = 'roc_auc' ,\n",
    "    cv = cv, \n",
    "    n_jobs=-1,\n",
    "    verbose = 2\n",
    ")\n",
    "\n",
    "grid_search.fit(X_train, y_train)"
   ]
  },
  {
   "cell_type": "code",
   "execution_count": 47,
   "id": "d39cea48-1dcd-4ead-a612-ac8cbb3ccbbd",
   "metadata": {
    "execution": {
     "iopub.execute_input": "2024-09-01T17:23:20.528892Z",
     "iopub.status.busy": "2024-09-01T17:23:20.528730Z",
     "iopub.status.idle": "2024-09-01T17:23:20.532194Z",
     "shell.execute_reply": "2024-09-01T17:23:20.531720Z",
     "shell.execute_reply.started": "2024-09-01T17:23:20.528881Z"
    }
   },
   "outputs": [
    {
     "data": {
      "text/plain": [
       "0.7447486108349846"
      ]
     },
     "execution_count": 47,
     "metadata": {},
     "output_type": "execute_result"
    }
   ],
   "source": [
    "grid_search.best_score_"
   ]
  },
  {
   "cell_type": "code",
   "execution_count": 48,
   "id": "ed5b3c28-2831-41e3-bfdb-a39a03237bff",
   "metadata": {
    "execution": {
     "iopub.execute_input": "2024-09-01T17:23:20.533219Z",
     "iopub.status.busy": "2024-09-01T17:23:20.532891Z",
     "iopub.status.idle": "2024-09-01T17:23:20.731830Z",
     "shell.execute_reply": "2024-09-01T17:23:20.731407Z",
     "shell.execute_reply.started": "2024-09-01T17:23:20.533203Z"
    }
   },
   "outputs": [
    {
     "data": {
      "text/plain": [
       "{'models': <catboost.core.CatBoostClassifier at 0x7efec75f7160>,\n",
       " 'models__depth': 4,\n",
       " 'models__learning_rate': 0.1,\n",
       " 'models__n_estimators': 37,\n",
       " 'preprocessor__num': 'passthrough'}"
      ]
     },
     "execution_count": 48,
     "metadata": {},
     "output_type": "execute_result"
    }
   ],
   "source": [
    "grid_search.best_params_"
   ]
  },
  {
   "cell_type": "code",
   "execution_count": 49,
   "id": "fb9ec0df-ca8a-4b8e-85e3-61940cd34a11",
   "metadata": {
    "execution": {
     "iopub.execute_input": "2024-09-01T17:23:20.732607Z",
     "iopub.status.busy": "2024-09-01T17:23:20.732467Z",
     "iopub.status.idle": "2024-09-01T17:23:20.901343Z",
     "shell.execute_reply": "2024-09-01T17:23:20.900870Z",
     "shell.execute_reply.started": "2024-09-01T17:23:20.732596Z"
    }
   },
   "outputs": [
    {
     "data": {
      "text/html": [
       "<div>\n",
       "<style scoped>\n",
       "    .dataframe tbody tr th:only-of-type {\n",
       "        vertical-align: middle;\n",
       "    }\n",
       "\n",
       "    .dataframe tbody tr th {\n",
       "        vertical-align: top;\n",
       "    }\n",
       "\n",
       "    .dataframe thead th {\n",
       "        text-align: right;\n",
       "    }\n",
       "</style>\n",
       "<table border=\"1\" class=\"dataframe\">\n",
       "  <thead>\n",
       "    <tr style=\"text-align: right;\">\n",
       "      <th></th>\n",
       "      <th>mean_fit_time</th>\n",
       "      <th>std_fit_time</th>\n",
       "      <th>mean_score_time</th>\n",
       "      <th>std_score_time</th>\n",
       "      <th>param_models</th>\n",
       "      <th>param_models__C</th>\n",
       "      <th>param_models__class_weight</th>\n",
       "      <th>param_models__l1_ratio</th>\n",
       "      <th>param_preprocessor__num</th>\n",
       "      <th>param_models__depth</th>\n",
       "      <th>...</th>\n",
       "      <th>param_models__n_estimators</th>\n",
       "      <th>params</th>\n",
       "      <th>split0_test_score</th>\n",
       "      <th>split1_test_score</th>\n",
       "      <th>split2_test_score</th>\n",
       "      <th>split3_test_score</th>\n",
       "      <th>split4_test_score</th>\n",
       "      <th>mean_test_score</th>\n",
       "      <th>std_test_score</th>\n",
       "      <th>rank_test_score</th>\n",
       "    </tr>\n",
       "  </thead>\n",
       "  <tbody>\n",
       "    <tr>\n",
       "      <th>77</th>\n",
       "      <td>0.625711</td>\n",
       "      <td>0.188829</td>\n",
       "      <td>0.010817</td>\n",
       "      <td>0.001407</td>\n",
       "      <td>&lt;catboost.core.CatBoostClassifier object at 0x...</td>\n",
       "      <td>NaN</td>\n",
       "      <td>NaN</td>\n",
       "      <td>NaN</td>\n",
       "      <td>passthrough</td>\n",
       "      <td>4.0</td>\n",
       "      <td>...</td>\n",
       "      <td>37.0</td>\n",
       "      <td>{'models': &lt;catboost.core.CatBoostClassifier o...</td>\n",
       "      <td>0.709783</td>\n",
       "      <td>0.714156</td>\n",
       "      <td>0.752079</td>\n",
       "      <td>0.781770</td>\n",
       "      <td>0.765955</td>\n",
       "      <td>0.744749</td>\n",
       "      <td>0.028399</td>\n",
       "      <td>1</td>\n",
       "    </tr>\n",
       "    <tr>\n",
       "      <th>79</th>\n",
       "      <td>0.467971</td>\n",
       "      <td>0.026973</td>\n",
       "      <td>0.008374</td>\n",
       "      <td>0.000527</td>\n",
       "      <td>&lt;catboost.core.CatBoostClassifier object at 0x...</td>\n",
       "      <td>NaN</td>\n",
       "      <td>NaN</td>\n",
       "      <td>NaN</td>\n",
       "      <td>passthrough</td>\n",
       "      <td>4.0</td>\n",
       "      <td>...</td>\n",
       "      <td>39.0</td>\n",
       "      <td>{'models': &lt;catboost.core.CatBoostClassifier o...</td>\n",
       "      <td>0.709626</td>\n",
       "      <td>0.714284</td>\n",
       "      <td>0.750902</td>\n",
       "      <td>0.781974</td>\n",
       "      <td>0.766824</td>\n",
       "      <td>0.744722</td>\n",
       "      <td>0.028540</td>\n",
       "      <td>2</td>\n",
       "    </tr>\n",
       "    <tr>\n",
       "      <th>78</th>\n",
       "      <td>0.610600</td>\n",
       "      <td>0.178250</td>\n",
       "      <td>0.009072</td>\n",
       "      <td>0.000946</td>\n",
       "      <td>&lt;catboost.core.CatBoostClassifier object at 0x...</td>\n",
       "      <td>NaN</td>\n",
       "      <td>NaN</td>\n",
       "      <td>NaN</td>\n",
       "      <td>passthrough</td>\n",
       "      <td>4.0</td>\n",
       "      <td>...</td>\n",
       "      <td>38.0</td>\n",
       "      <td>{'models': &lt;catboost.core.CatBoostClassifier o...</td>\n",
       "      <td>0.709780</td>\n",
       "      <td>0.713532</td>\n",
       "      <td>0.751948</td>\n",
       "      <td>0.781970</td>\n",
       "      <td>0.765926</td>\n",
       "      <td>0.744631</td>\n",
       "      <td>0.028576</td>\n",
       "      <td>3</td>\n",
       "    </tr>\n",
       "    <tr>\n",
       "      <th>76</th>\n",
       "      <td>0.401582</td>\n",
       "      <td>0.052307</td>\n",
       "      <td>0.008263</td>\n",
       "      <td>0.000238</td>\n",
       "      <td>&lt;catboost.core.CatBoostClassifier object at 0x...</td>\n",
       "      <td>NaN</td>\n",
       "      <td>NaN</td>\n",
       "      <td>NaN</td>\n",
       "      <td>passthrough</td>\n",
       "      <td>4.0</td>\n",
       "      <td>...</td>\n",
       "      <td>36.0</td>\n",
       "      <td>{'models': &lt;catboost.core.CatBoostClassifier o...</td>\n",
       "      <td>0.709731</td>\n",
       "      <td>0.713105</td>\n",
       "      <td>0.751273</td>\n",
       "      <td>0.781510</td>\n",
       "      <td>0.765452</td>\n",
       "      <td>0.744214</td>\n",
       "      <td>0.028456</td>\n",
       "      <td>4</td>\n",
       "    </tr>\n",
       "    <tr>\n",
       "      <th>75</th>\n",
       "      <td>0.346860</td>\n",
       "      <td>0.009370</td>\n",
       "      <td>0.008593</td>\n",
       "      <td>0.000527</td>\n",
       "      <td>&lt;catboost.core.CatBoostClassifier object at 0x...</td>\n",
       "      <td>NaN</td>\n",
       "      <td>NaN</td>\n",
       "      <td>NaN</td>\n",
       "      <td>passthrough</td>\n",
       "      <td>4.0</td>\n",
       "      <td>...</td>\n",
       "      <td>35.0</td>\n",
       "      <td>{'models': &lt;catboost.core.CatBoostClassifier o...</td>\n",
       "      <td>0.709161</td>\n",
       "      <td>0.713414</td>\n",
       "      <td>0.751991</td>\n",
       "      <td>0.780633</td>\n",
       "      <td>0.765215</td>\n",
       "      <td>0.744083</td>\n",
       "      <td>0.028302</td>\n",
       "      <td>5</td>\n",
       "    </tr>\n",
       "    <tr>\n",
       "      <th>...</th>\n",
       "      <td>...</td>\n",
       "      <td>...</td>\n",
       "      <td>...</td>\n",
       "      <td>...</td>\n",
       "      <td>...</td>\n",
       "      <td>...</td>\n",
       "      <td>...</td>\n",
       "      <td>...</td>\n",
       "      <td>...</td>\n",
       "      <td>...</td>\n",
       "      <td>...</td>\n",
       "      <td>...</td>\n",
       "      <td>...</td>\n",
       "      <td>...</td>\n",
       "      <td>...</td>\n",
       "      <td>...</td>\n",
       "      <td>...</td>\n",
       "      <td>...</td>\n",
       "      <td>...</td>\n",
       "      <td>...</td>\n",
       "      <td>...</td>\n",
       "    </tr>\n",
       "    <tr>\n",
       "      <th>315</th>\n",
       "      <td>1.105043</td>\n",
       "      <td>0.130443</td>\n",
       "      <td>0.019196</td>\n",
       "      <td>0.017541</td>\n",
       "      <td>&lt;catboost.core.CatBoostClassifier object at 0x...</td>\n",
       "      <td>NaN</td>\n",
       "      <td>NaN</td>\n",
       "      <td>NaN</td>\n",
       "      <td>passthrough</td>\n",
       "      <td>9.0</td>\n",
       "      <td>...</td>\n",
       "      <td>35.0</td>\n",
       "      <td>{'models': &lt;catboost.core.CatBoostClassifier o...</td>\n",
       "      <td>0.677976</td>\n",
       "      <td>0.689315</td>\n",
       "      <td>0.726791</td>\n",
       "      <td>0.736316</td>\n",
       "      <td>0.731201</td>\n",
       "      <td>0.712320</td>\n",
       "      <td>0.023877</td>\n",
       "      <td>316</td>\n",
       "    </tr>\n",
       "    <tr>\n",
       "      <th>316</th>\n",
       "      <td>1.120450</td>\n",
       "      <td>0.152917</td>\n",
       "      <td>0.009863</td>\n",
       "      <td>0.000674</td>\n",
       "      <td>&lt;catboost.core.CatBoostClassifier object at 0x...</td>\n",
       "      <td>NaN</td>\n",
       "      <td>NaN</td>\n",
       "      <td>NaN</td>\n",
       "      <td>passthrough</td>\n",
       "      <td>9.0</td>\n",
       "      <td>...</td>\n",
       "      <td>36.0</td>\n",
       "      <td>{'models': &lt;catboost.core.CatBoostClassifier o...</td>\n",
       "      <td>0.677100</td>\n",
       "      <td>0.690568</td>\n",
       "      <td>0.726882</td>\n",
       "      <td>0.736112</td>\n",
       "      <td>0.729973</td>\n",
       "      <td>0.712127</td>\n",
       "      <td>0.023678</td>\n",
       "      <td>317</td>\n",
       "    </tr>\n",
       "    <tr>\n",
       "      <th>317</th>\n",
       "      <td>1.020326</td>\n",
       "      <td>0.194753</td>\n",
       "      <td>0.010584</td>\n",
       "      <td>0.001700</td>\n",
       "      <td>&lt;catboost.core.CatBoostClassifier object at 0x...</td>\n",
       "      <td>NaN</td>\n",
       "      <td>NaN</td>\n",
       "      <td>NaN</td>\n",
       "      <td>passthrough</td>\n",
       "      <td>9.0</td>\n",
       "      <td>...</td>\n",
       "      <td>37.0</td>\n",
       "      <td>{'models': &lt;catboost.core.CatBoostClassifier o...</td>\n",
       "      <td>0.675482</td>\n",
       "      <td>0.688299</td>\n",
       "      <td>0.726027</td>\n",
       "      <td>0.731445</td>\n",
       "      <td>0.728872</td>\n",
       "      <td>0.710025</td>\n",
       "      <td>0.023389</td>\n",
       "      <td>318</td>\n",
       "    </tr>\n",
       "    <tr>\n",
       "      <th>318</th>\n",
       "      <td>1.025922</td>\n",
       "      <td>0.104251</td>\n",
       "      <td>0.009810</td>\n",
       "      <td>0.001218</td>\n",
       "      <td>&lt;catboost.core.CatBoostClassifier object at 0x...</td>\n",
       "      <td>NaN</td>\n",
       "      <td>NaN</td>\n",
       "      <td>NaN</td>\n",
       "      <td>passthrough</td>\n",
       "      <td>9.0</td>\n",
       "      <td>...</td>\n",
       "      <td>38.0</td>\n",
       "      <td>{'models': &lt;catboost.core.CatBoostClassifier o...</td>\n",
       "      <td>0.674899</td>\n",
       "      <td>0.688362</td>\n",
       "      <td>0.725670</td>\n",
       "      <td>0.730641</td>\n",
       "      <td>0.728787</td>\n",
       "      <td>0.709672</td>\n",
       "      <td>0.023342</td>\n",
       "      <td>319</td>\n",
       "    </tr>\n",
       "    <tr>\n",
       "      <th>319</th>\n",
       "      <td>0.900650</td>\n",
       "      <td>0.074748</td>\n",
       "      <td>0.011362</td>\n",
       "      <td>0.001918</td>\n",
       "      <td>&lt;catboost.core.CatBoostClassifier object at 0x...</td>\n",
       "      <td>NaN</td>\n",
       "      <td>NaN</td>\n",
       "      <td>NaN</td>\n",
       "      <td>passthrough</td>\n",
       "      <td>9.0</td>\n",
       "      <td>...</td>\n",
       "      <td>39.0</td>\n",
       "      <td>{'models': &lt;catboost.core.CatBoostClassifier o...</td>\n",
       "      <td>0.671684</td>\n",
       "      <td>0.686610</td>\n",
       "      <td>0.726104</td>\n",
       "      <td>0.732959</td>\n",
       "      <td>0.730299</td>\n",
       "      <td>0.709531</td>\n",
       "      <td>0.025348</td>\n",
       "      <td>320</td>\n",
       "    </tr>\n",
       "  </tbody>\n",
       "</table>\n",
       "<p>320 rows × 21 columns</p>\n",
       "</div>"
      ],
      "text/plain": [
       "     mean_fit_time  std_fit_time  mean_score_time  std_score_time  \\\n",
       "77        0.625711      0.188829         0.010817        0.001407   \n",
       "79        0.467971      0.026973         0.008374        0.000527   \n",
       "78        0.610600      0.178250         0.009072        0.000946   \n",
       "76        0.401582      0.052307         0.008263        0.000238   \n",
       "75        0.346860      0.009370         0.008593        0.000527   \n",
       "..             ...           ...              ...             ...   \n",
       "315       1.105043      0.130443         0.019196        0.017541   \n",
       "316       1.120450      0.152917         0.009863        0.000674   \n",
       "317       1.020326      0.194753         0.010584        0.001700   \n",
       "318       1.025922      0.104251         0.009810        0.001218   \n",
       "319       0.900650      0.074748         0.011362        0.001918   \n",
       "\n",
       "                                          param_models  param_models__C  \\\n",
       "77   <catboost.core.CatBoostClassifier object at 0x...              NaN   \n",
       "79   <catboost.core.CatBoostClassifier object at 0x...              NaN   \n",
       "78   <catboost.core.CatBoostClassifier object at 0x...              NaN   \n",
       "76   <catboost.core.CatBoostClassifier object at 0x...              NaN   \n",
       "75   <catboost.core.CatBoostClassifier object at 0x...              NaN   \n",
       "..                                                 ...              ...   \n",
       "315  <catboost.core.CatBoostClassifier object at 0x...              NaN   \n",
       "316  <catboost.core.CatBoostClassifier object at 0x...              NaN   \n",
       "317  <catboost.core.CatBoostClassifier object at 0x...              NaN   \n",
       "318  <catboost.core.CatBoostClassifier object at 0x...              NaN   \n",
       "319  <catboost.core.CatBoostClassifier object at 0x...              NaN   \n",
       "\n",
       "    param_models__class_weight  param_models__l1_ratio  \\\n",
       "77                         NaN                     NaN   \n",
       "79                         NaN                     NaN   \n",
       "78                         NaN                     NaN   \n",
       "76                         NaN                     NaN   \n",
       "75                         NaN                     NaN   \n",
       "..                         ...                     ...   \n",
       "315                        NaN                     NaN   \n",
       "316                        NaN                     NaN   \n",
       "317                        NaN                     NaN   \n",
       "318                        NaN                     NaN   \n",
       "319                        NaN                     NaN   \n",
       "\n",
       "    param_preprocessor__num  param_models__depth  ...  \\\n",
       "77              passthrough                  4.0  ...   \n",
       "79              passthrough                  4.0  ...   \n",
       "78              passthrough                  4.0  ...   \n",
       "76              passthrough                  4.0  ...   \n",
       "75              passthrough                  4.0  ...   \n",
       "..                      ...                  ...  ...   \n",
       "315             passthrough                  9.0  ...   \n",
       "316             passthrough                  9.0  ...   \n",
       "317             passthrough                  9.0  ...   \n",
       "318             passthrough                  9.0  ...   \n",
       "319             passthrough                  9.0  ...   \n",
       "\n",
       "     param_models__n_estimators  \\\n",
       "77                         37.0   \n",
       "79                         39.0   \n",
       "78                         38.0   \n",
       "76                         36.0   \n",
       "75                         35.0   \n",
       "..                          ...   \n",
       "315                        35.0   \n",
       "316                        36.0   \n",
       "317                        37.0   \n",
       "318                        38.0   \n",
       "319                        39.0   \n",
       "\n",
       "                                                params split0_test_score  \\\n",
       "77   {'models': <catboost.core.CatBoostClassifier o...          0.709783   \n",
       "79   {'models': <catboost.core.CatBoostClassifier o...          0.709626   \n",
       "78   {'models': <catboost.core.CatBoostClassifier o...          0.709780   \n",
       "76   {'models': <catboost.core.CatBoostClassifier o...          0.709731   \n",
       "75   {'models': <catboost.core.CatBoostClassifier o...          0.709161   \n",
       "..                                                 ...               ...   \n",
       "315  {'models': <catboost.core.CatBoostClassifier o...          0.677976   \n",
       "316  {'models': <catboost.core.CatBoostClassifier o...          0.677100   \n",
       "317  {'models': <catboost.core.CatBoostClassifier o...          0.675482   \n",
       "318  {'models': <catboost.core.CatBoostClassifier o...          0.674899   \n",
       "319  {'models': <catboost.core.CatBoostClassifier o...          0.671684   \n",
       "\n",
       "     split1_test_score  split2_test_score  split3_test_score  \\\n",
       "77            0.714156           0.752079           0.781770   \n",
       "79            0.714284           0.750902           0.781974   \n",
       "78            0.713532           0.751948           0.781970   \n",
       "76            0.713105           0.751273           0.781510   \n",
       "75            0.713414           0.751991           0.780633   \n",
       "..                 ...                ...                ...   \n",
       "315           0.689315           0.726791           0.736316   \n",
       "316           0.690568           0.726882           0.736112   \n",
       "317           0.688299           0.726027           0.731445   \n",
       "318           0.688362           0.725670           0.730641   \n",
       "319           0.686610           0.726104           0.732959   \n",
       "\n",
       "     split4_test_score  mean_test_score  std_test_score  rank_test_score  \n",
       "77            0.765955         0.744749        0.028399                1  \n",
       "79            0.766824         0.744722        0.028540                2  \n",
       "78            0.765926         0.744631        0.028576                3  \n",
       "76            0.765452         0.744214        0.028456                4  \n",
       "75            0.765215         0.744083        0.028302                5  \n",
       "..                 ...              ...             ...              ...  \n",
       "315           0.731201         0.712320        0.023877              316  \n",
       "316           0.729973         0.712127        0.023678              317  \n",
       "317           0.728872         0.710025        0.023389              318  \n",
       "318           0.728787         0.709672        0.023342              319  \n",
       "319           0.730299         0.709531        0.025348              320  \n",
       "\n",
       "[320 rows x 21 columns]"
      ]
     },
     "execution_count": 49,
     "metadata": {},
     "output_type": "execute_result"
    }
   ],
   "source": [
    "pd.DataFrame(grid_search.cv_results_).sort_values(by = 'rank_test_score')"
   ]
  },
  {
   "cell_type": "markdown",
   "id": "57244a98-c74c-4cbd-853c-deae88ccee75",
   "metadata": {},
   "source": [
    "Обучили оптимальную модель градиентного бустинга catboost со значением метрики ROC-AUC на кросс-валидации ~0.745. Модель имеет параметры: depth 4, learnin_rate 0.1, n_estimators 37."
   ]
  },
  {
   "cell_type": "markdown",
   "id": "ee5adcc2-b59c-499e-9da5-2e2282acb971",
   "metadata": {},
   "source": [
    "### Тестирование модели на тестовой выборке и анализ важности признаков"
   ]
  },
  {
   "cell_type": "code",
   "execution_count": 50,
   "id": "bbb34e31-dada-40b3-840e-4bb7b0e13657",
   "metadata": {
    "execution": {
     "iopub.execute_input": "2024-09-01T17:23:20.902154Z",
     "iopub.status.busy": "2024-09-01T17:23:20.901991Z",
     "iopub.status.idle": "2024-09-01T17:23:21.075481Z",
     "shell.execute_reply": "2024-09-01T17:23:21.075078Z",
     "shell.execute_reply.started": "2024-09-01T17:23:20.902142Z"
    }
   },
   "outputs": [
    {
     "data": {
      "text/plain": [
       "0.7376396228206183"
      ]
     },
     "execution_count": 50,
     "metadata": {},
     "output_type": "execute_result"
    }
   ],
   "source": [
    "preds = grid_search.predict_proba(X_test)\n",
    "\n",
    "# вычислите метрику ROC-AUC и выведите её на экран командой print()\n",
    "roc_auc = roc_auc_score(y_test, preds[:,1])\n",
    "roc_auc"
   ]
  },
  {
   "cell_type": "code",
   "execution_count": 51,
   "id": "7e478355-903d-4536-adfc-bd76368705b3",
   "metadata": {
    "execution": {
     "iopub.execute_input": "2024-09-01T17:23:21.076328Z",
     "iopub.status.busy": "2024-09-01T17:23:21.076051Z",
     "iopub.status.idle": "2024-09-01T17:23:21.329972Z",
     "shell.execute_reply": "2024-09-01T17:23:21.329508Z",
     "shell.execute_reply.started": "2024-09-01T17:23:21.076315Z"
    }
   },
   "outputs": [
    {
     "data": {
      "image/png": "[encoded data removed]",
      "text/plain": [
       "<Figure size 1000x800 with 1 Axes>"
      ]
     },
     "metadata": {},
     "output_type": "display_data"
    }
   ],
   "source": [
    "feature_importances = grid_search.best_estimator_.named_steps['models'].get_feature_importance()\n",
    "feature_names = grid_search.best_estimator_.named_steps['preprocessor'].get_feature_names_out()\n",
    "\n",
    "importance_df = pd.DataFrame({\n",
    "    'Feature': feature_names,\n",
    "    'Importance': feature_importances\n",
    "})\n",
    "\n",
    "importance_df = importance_df.sort_values(by='Importance', ascending=False)\n",
    "\n",
    "# Построение графика\n",
    "plt.figure(figsize=(10, 8))\n",
    "plt.barh(importance_df['Feature'], importance_df['Importance'])\n",
    "plt.xlabel('Importance')\n",
    "plt.ylabel('Feature')\n",
    "plt.title('Feature Importances')\n",
    "plt.gca().invert_yaxis()  # Переворачиваем ось Y, чтобы наиболее важные признаки были наверху\n",
    "plt.show()"
   ]
  },
  {
   "cell_type": "code",
   "execution_count": 52,
   "id": "35d19ec4-228f-4e14-b98c-554351a1c95a",
   "metadata": {
    "execution": {
     "iopub.execute_input": "2024-09-01T17:23:21.330814Z",
     "iopub.status.busy": "2024-09-01T17:23:21.330658Z",
     "iopub.status.idle": "2024-09-01T17:23:23.034647Z",
     "shell.execute_reply": "2024-09-01T17:23:23.034167Z",
     "shell.execute_reply.started": "2024-09-01T17:23:21.330803Z"
    }
   },
   "outputs": [
    {
     "data": {
      "image/png": "[encoded data removed]",
      "text/plain": [
       "<Figure size 800x470 with 2 Axes>"
      ]
     },
     "metadata": {},
     "output_type": "display_data"
    }
   ],
   "source": [
    "# Оценим направленность влияния признаков на целевую переменную\n",
    "explainer = shap.TreeExplainer(grid_search.best_estimator_.named_steps['models'])\n",
    "\n",
    "shap_values = explainer.shap_values(grid_search.best_estimator_.named_steps['preprocessor'].transform(X_train))\n",
    "\n",
    "shap.summary_plot(shap_values, grid_search.best_estimator_.named_steps['preprocessor'].transform(X_train), feature_names=grid_search.best_estimator_.named_steps['preprocessor'].get_feature_names_out() )\n"
   ]
  },
  {
   "cell_type": "markdown",
   "id": "4da9b7cc-7e7f-4abd-a848-c834cc85ce5a",
   "metadata": {},
   "source": [
    "На тестовой выборке модель также показала высокое значение метрики ROC-AUC 0.738.\n",
    "\n",
    "Самым значимым фактором является количество переходов по ссылке из сообщения (также фактор открытия сообщений также оказывает положительное влияние на целевую переменную).  \n",
    "Кроме этого, группа переменных описывающих прошлый покупательский опыт (кол-во покупок, длительность покупок, были ли покупки за последние 90 дней) имеют сильно влияние. Чем больше покупательский опыт клиента, тем с большей вероятностью он будет отнесен к классу 1 (сделает покупку в ближайшие 90 дней).  \n",
    "Использование имейла как основного канала коммуникации с клиентом,а также отсутствие коммуникации в последние 90 дней, снижает вероятность будущих покупок.  \n",
    "Наконец, слишком большой кол-во сообщений в целом также слегка снижает вероятность будущих покупок."
   ]
  },
  {
   "cell_type": "markdown",
   "id": "ccc970c4-4ccd-4251-8839-f8bb3622d864",
   "metadata": {},
   "source": [
    "## Общий вывод"
   ]
  },
  {
   "cell_type": "markdown",
   "id": "79fbf8fb-8b8d-469a-a5c1-241eb68ae264",
   "metadata": {},
   "source": [
    "В рамках данного проекта мы проанализировали данные о покупках и маркетинговых коммуникациях с клиентами. В результате, мы обучили модель машинного обучения, которая определяет, совершит ли клиент покупку в течение ближайших 90 дней или нет. \n",
    "\n",
    "На входе мы получили разрозненные данные из разных источниках на различных уровнях агрегации. В ходе проекта мы провели обработку и исследовательский анализ данных, провели агрегацию на уровень пользователя, а также выделили потенциально значимые характеристики, влияющие на значение целевой переменной.  \n",
    "\n",
    "Отдельно стоит отметить несколько моментов, связанных с данными:\n",
    "1. Обучающая выборка крайне несбалансированна, из ~50 тысяч клиентов только ~1 тысяча клиентов имеет значение целевого признака равное 1.\n",
    "2. Порядка 20% выборки клиентов не имеют записей в наборе данных с маркетинговыми сообщениями. Это явное упущение модели сбора данных о клиентах, для более качественного анализа необходимо большая полнота данных.\n",
    "3. Данные в наборе сообщений с маркетинговыми сообщениями бывают противоречивы (событие purchase случается раньше события open  т.д.). Необходимо уделять больше внимания качеству данных.\n",
    "\n",
    "Для построения модели машинного обучения мы использовали пайплайн с подбором гиперпараметров из широкого набора допустимых значений. Оценивались как простые модели (логистическая регрессия), так и более сложные (градиентные бустинги).  \n",
    "В результате кросс-валидации мы обучили оптимальную модель - модель градиентного бустинга (catboos) с n_estimators 37, learning rete 0.1 и depth 4. Для нивелирования эффекта несбалансированного классов использовался параметр модели auto_class_weights = 'Balanced', придающим больший вес при ошибке на объектах с целевым признаком 1.\n",
    "\n",
    "В качестве основной метрики заказчик указал ROC-AUC. Оптимальная модель показала среднее значение метрики 0.745 на кросс-валидации, а также высокое значение 0.738 на тестовой выборке (что выше порогового значения 0.7).\n",
    "\n",
    "На основании оптимальной модели можно сделать ряд выводов о влиянии признаков на целевую переменную:\n",
    "1. Клиенты, имеющие богатый опыт взаимодействия с магазином (совершают покупки долгое время, совершили уже много покупок, мовершали покупки в последние 90 дней) в среднем более склонны к тому, чтобы совершать покупки и в будущем.\n",
    "2. Клиенты, с которыми общаются через mobile push уведомления более склонны к совершению новых покупок.\n",
    "3. Хотя большое общее количество маркетинговых сообщений оказывает слегка негативное влияние на вероятность покупки, отдельно взятые шаги воронки \"открытие сообщения\" и \"переход по ссылке\" оказывают положительный эффект.\n",
    "4. Клиенты, с которыми не проводилось маркетинговой коммуникации за последние 90 дней, вероятно не совершат покупку в ближайшем будущем.\n",
    "\n",
    "Обощив, складывается впечатление, что у заказчика очень качественная платформа и в целом клиенты испытывают положительный опыт от взаимодействия с площадкой - те кто попробовали покупать, вероятно будути покупать и в будущем.\n",
    "С точки зрения бизнес рекомендаций, мы считаем, что заказчику необходимо:\n",
    "1. Сфокусироваться на существующих покупателях - они склонны к повторным покупкам.\n",
    "2. Необходимо работать над контентом сообщений - переход из открытого сообщения по ссылке в среднем сильно повышает вероятность покупок в будущем. Качественный контент (открытие сообщения и переход по ссылке) гораздо важнее количества сообщений.\n",
    "3.  Мобильные пуш уведомления являются более эффективным каналом коммуникации, стоит сосредоточиться на них\n",
    "4.  Продолжать делать маркетинговую расслыку всем клиентам (ее отсутствие снижает шансы того, что покупки будут продолжаться)"
   ]
  }
 ],
 "metadata": {
  "kernelspec": {
   "display_name": "Python 3 (ipykernel)",
   "language": "python",
   "name": "python3"
  },
  "language_info": {
   "codemirror_mode": {
    "name": "ipython",
    "version": 3
   },
   "file_extension": ".py",
   "mimetype": "text/x-python",
   "name": "python",
   "nbconvert_exporter": "python",
   "pygments_lexer": "ipython3",
   "version": "3.10.12"
  }
 },
 "nbformat": 4,
 "nbformat_minor": 5
}
